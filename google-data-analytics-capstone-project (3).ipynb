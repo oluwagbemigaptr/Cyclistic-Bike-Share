{
 "cells": [
  {
   "cell_type": "markdown",
   "id": "cc8686ec",
   "metadata": {
    "_execution_state": "idle",
    "_uuid": "051d70d956493feee0c6d64651c6a088724dca2a",
    "papermill": {
     "duration": 0.014753,
     "end_time": "2022-09-01T23:38:39.823592",
     "exception": false,
     "start_time": "2022-09-01T23:38:39.808839",
     "status": "completed"
    },
    "tags": []
   },
   "source": [
    "# Capstone Project Case Study 1: How Does a Bike-Share Navigate Speedy Success?\n",
    "\n",
    "**Introduction**\n",
    "\n",
    "Hello there! I recently completed the Coursera Google Data Analytics Professional Certificate program. Students are required to complete a data analysis case study as part of this course to demonstrate the skills learned throughout the course, and here is my take on this project.\n",
    "\n",
    "I will be working as a Junior Data Analyst in the marketing analyst team at Cyclistic to carry out this project. The data has been made available by Motivate International Inc. under this [license}(https://ride.divvybikes.com/data-license-agreement).\n",
    "\n",
    "**About the Company**\n",
    "\n",
    "In 2016, Cyclistic launched a successful bike-share offering. Since then, the program has grown to a fleet of 5,824 bicycles that are geo-tracked and locked into a network of 692 station across Chicago. The bikes can be unlocked from one station and returned to any other station in the system anytime.\n",
    "\n",
    "Until now, Cyclistic's marketing strategy relied on building general awareness and appealing to broad consumer segments. One approach that helped make these things possible was the flexibility of its pricing plans: single-ride passes or full-day passes are referred to as casual riders. Customers who purchase annual memberships are Cyclistic members.\n",
    "\n",
    "In order to increase the revenue, the company wants to come up with a new marketing strategy to convert casual riders into annual members. The director of marketing, Lily Moreno believes the company's future success depends on maximizing the number of annual memberships. As a result, I've been tasked with analyzing bike usage data to better understand how casual riders and annual members use Cyclistic bikes differently in order to develop a data-driven marketing strategy.\n",
    "\n",
    "**Objectives**\n",
    "\n",
    "-   The objective of this project is to show how annual members and casual riders use Cyclistic's bikes differently.\n",
    "\n",
    "# Ask\n",
    "\n",
    "**Key Task:** Identify the business task.\n",
    "\n",
    "-   To better understand how annual members and casual riders use Cyclistic bikes differently, which would serve as an insight for the design marketing strategy team to fulfill their aim by converting casual riders into annual members.\n",
    "\n",
    "#  Prepare\n",
    "\n",
    "**Key Task:** A description of all data sources used.\n",
    "\n",
    "-   Data was made available by Motivate International Inc. under this [license](https://ride.divvybikes.com/data-license-agreement). It includes cyclistic trip data for a period of 12 months (from 04/2021 to 03/2022).\n",
    "\n",
    "#  Process\n",
    "\n",
    "**Key Task:** Documentation of cleaning and manipulation of data.\n",
    "\n",
    "-   Install required packages"
   ]
  },
  {
   "cell_type": "code",
   "execution_count": 1,
   "id": "f7ff77de",
   "metadata": {
    "execution": {
     "iopub.execute_input": "2022-09-01T23:38:39.853021Z",
     "iopub.status.busy": "2022-09-01T23:38:39.850297Z",
     "iopub.status.idle": "2022-09-01T23:38:41.228649Z",
     "shell.execute_reply": "2022-09-01T23:38:41.226646Z"
    },
    "papermill": {
     "duration": 1.396175,
     "end_time": "2022-09-01T23:38:41.231874",
     "exception": false,
     "start_time": "2022-09-01T23:38:39.835699",
     "status": "completed"
    },
    "tags": []
   },
   "outputs": [
    {
     "name": "stderr",
     "output_type": "stream",
     "text": [
      "── \u001b[1mAttaching packages\u001b[22m ─────────────────────────────────────── tidyverse 1.3.1 ──\n",
      "\n",
      "\u001b[32m✔\u001b[39m \u001b[34mggplot2\u001b[39m 3.3.6     \u001b[32m✔\u001b[39m \u001b[34mpurrr  \u001b[39m 0.3.4\n",
      "\u001b[32m✔\u001b[39m \u001b[34mtibble \u001b[39m 3.1.7     \u001b[32m✔\u001b[39m \u001b[34mdplyr  \u001b[39m 1.0.9\n",
      "\u001b[32m✔\u001b[39m \u001b[34mtidyr  \u001b[39m 1.2.0     \u001b[32m✔\u001b[39m \u001b[34mstringr\u001b[39m 1.4.0\n",
      "\u001b[32m✔\u001b[39m \u001b[34mreadr  \u001b[39m 2.1.2     \u001b[32m✔\u001b[39m \u001b[34mforcats\u001b[39m 0.5.1\n",
      "\n",
      "── \u001b[1mConflicts\u001b[22m ────────────────────────────────────────── tidyverse_conflicts() ──\n",
      "\u001b[31m✖\u001b[39m \u001b[34mdplyr\u001b[39m::\u001b[32mfilter()\u001b[39m masks \u001b[34mstats\u001b[39m::filter()\n",
      "\u001b[31m✖\u001b[39m \u001b[34mdplyr\u001b[39m::\u001b[32mlag()\u001b[39m    masks \u001b[34mstats\u001b[39m::lag()\n",
      "\n",
      "\n",
      "Attaching package: ‘lubridate’\n",
      "\n",
      "\n",
      "The following objects are masked from ‘package:base’:\n",
      "\n",
      "    date, intersect, setdiff, union\n",
      "\n",
      "\n"
     ]
    }
   ],
   "source": [
    "# tidyverse for data import and wrangling\n",
    "library(tidyverse)\n",
    "# lubridate for date functions\n",
    "library(lubridate)\n",
    "# ggplot for visualization\n",
    "library(ggplot2)"
   ]
  },
  {
   "cell_type": "markdown",
   "id": "9a31bc21",
   "metadata": {
    "papermill": {
     "duration": 0.012416,
     "end_time": "2022-09-01T23:38:41.256761",
     "exception": false,
     "start_time": "2022-09-01T23:38:41.244345",
     "status": "completed"
    },
    "tags": []
   },
   "source": [
    "**Data Import**\n",
    "\n",
    "-   Each 12-month trip data set (in csv format) was extracted and saved."
   ]
  },
  {
   "cell_type": "code",
   "execution_count": 2,
   "id": "e78cd489",
   "metadata": {
    "execution": {
     "iopub.execute_input": "2022-09-01T23:38:41.315557Z",
     "iopub.status.busy": "2022-09-01T23:38:41.283458Z",
     "iopub.status.idle": "2022-09-01T23:40:37.902564Z",
     "shell.execute_reply": "2022-09-01T23:40:37.900658Z"
    },
    "papermill": {
     "duration": 116.637528,
     "end_time": "2022-09-01T23:40:37.906718",
     "exception": false,
     "start_time": "2022-09-01T23:38:41.269190",
     "status": "completed"
    },
    "tags": []
   },
   "outputs": [],
   "source": [
    "# dt is an abbreviation for divvy-tripdata, and the numbers represent each month of data from February 2021 to January 2022\n",
    "dt1 <- read.csv(\"../input/cyclistic-bike-share/202104-divvy-tripdata.csv\")\n",
    "dt2 <- read.csv(\"../input/cyclistic-bike-share/202105-divvy-tripdata.csv\")\n",
    "dt3 <- read.csv(\"../input/cyclistic-bike-share/202106-divvy-tripdata.csv\")\n",
    "dt4 <- read.csv(\"../input/cyclistic-bike-share/202107-divvy-tripdata.csv\")\n",
    "dt5 <- read.csv(\"../input/cyclistic-bike-share/202108-divvy-tripdata.csv\")\n",
    "dt6 <- read.csv(\"../input/cyclistic-bike-share/202109-divvy-tripdata.csv\")\n",
    "dt7 <- read.csv(\"../input/cyclistic-bike-share/202110-divvy-tripdata.csv\")\n",
    "dt8 <- read.csv(\"../input/cyclistic-bike-share/202111-divvy-tripdata.csv\")\n",
    "dt9 <- read.csv(\"../input/cyclistic-bike-share/202112-divvy-tripdata.csv\")\n",
    "dt10 <- read.csv(\"../input/cyclistic-bike-share/202201-divvy-tripdata.csv\")\n",
    "dt11 <- read.csv(\"../input/cyclistic-bike-share/202202-divvy-tripdata.csv\")\n",
    "dt12 <- read.csv(\"../input/cyclistic-bike-share/202203-divvy-tripdata.csv\")"
   ]
  },
  {
   "cell_type": "markdown",
   "id": "a30e4206",
   "metadata": {
    "papermill": {
     "duration": 0.013491,
     "end_time": "2022-09-01T23:40:37.936666",
     "exception": false,
     "start_time": "2022-09-01T23:40:37.923175",
     "status": "completed"
    },
    "tags": []
   },
   "source": [
    "**Merge Data**\n",
    "\n",
    "-   The data were merged into one dataframe called \"tripdata\" using the r bind()"
   ]
  },
  {
   "cell_type": "code",
   "execution_count": 3,
   "id": "5076ad5e",
   "metadata": {
    "execution": {
     "iopub.execute_input": "2022-09-01T23:40:37.965946Z",
     "iopub.status.busy": "2022-09-01T23:40:37.964199Z",
     "iopub.status.idle": "2022-09-01T23:41:10.802928Z",
     "shell.execute_reply": "2022-09-01T23:41:10.800909Z"
    },
    "papermill": {
     "duration": 32.856505,
     "end_time": "2022-09-01T23:41:10.805631",
     "exception": false,
     "start_time": "2022-09-01T23:40:37.949126",
     "status": "completed"
    },
    "tags": []
   },
   "outputs": [],
   "source": [
    "tripdata <- rbind(dt1, dt2, dt3, dt4, dt5, dt6, dt7, dt8, dt9, dt10, dt11, dt12)"
   ]
  },
  {
   "cell_type": "markdown",
   "id": "45de9a1a",
   "metadata": {
    "papermill": {
     "duration": 0.012615,
     "end_time": "2022-09-01T23:41:10.830787",
     "exception": false,
     "start_time": "2022-09-01T23:41:10.818172",
     "status": "completed"
    },
    "tags": []
   },
   "source": [
    "**Check for data structure**"
   ]
  },
  {
   "cell_type": "code",
   "execution_count": 4,
   "id": "e6d80192",
   "metadata": {
    "execution": {
     "iopub.execute_input": "2022-09-01T23:41:10.859103Z",
     "iopub.status.busy": "2022-09-01T23:41:10.857432Z",
     "iopub.status.idle": "2022-09-01T23:41:10.896321Z",
     "shell.execute_reply": "2022-09-01T23:41:10.893791Z"
    },
    "papermill": {
     "duration": 0.056575,
     "end_time": "2022-09-01T23:41:10.899658",
     "exception": false,
     "start_time": "2022-09-01T23:41:10.843083",
     "status": "completed"
    },
    "tags": []
   },
   "outputs": [
    {
     "name": "stdout",
     "output_type": "stream",
     "text": [
      "'data.frame':\t5723532 obs. of  13 variables:\n",
      " $ ride_id           : chr  \"6C992BD37A98A63F\" \"1E0145613A209000\" \"E498E15508A80BAD\" \"1887262AD101C604\" ...\n",
      " $ rideable_type     : chr  \"classic_bike\" \"docked_bike\" \"docked_bike\" \"classic_bike\" ...\n",
      " $ started_at        : chr  \"2021-04-12 18:25:36\" \"2021-04-27 17:27:11\" \"2021-04-03 12:42:45\" \"2021-04-17 09:17:42\" ...\n",
      " $ ended_at          : chr  \"2021-04-12 18:56:55\" \"2021-04-27 18:31:29\" \"2021-04-07 11:40:24\" \"2021-04-17 09:42:48\" ...\n",
      " $ start_station_name: chr  \"State St & Pearson St\" \"Dorchester Ave & 49th St\" \"Loomis Blvd & 84th St\" \"Honore St & Division St\" ...\n",
      " $ start_station_id  : chr  \"TA1307000061\" \"KA1503000069\" \"20121\" \"TA1305000034\" ...\n",
      " $ end_station_name  : chr  \"Southport Ave & Waveland Ave\" \"Dorchester Ave & 49th St\" \"Loomis Blvd & 84th St\" \"Southport Ave & Waveland Ave\" ...\n",
      " $ end_station_id    : chr  \"13235\" \"KA1503000069\" \"20121\" \"13235\" ...\n",
      " $ start_lat         : num  41.9 41.8 41.7 41.9 41.7 ...\n",
      " $ start_lng         : num  -87.6 -87.6 -87.7 -87.7 -87.7 ...\n",
      " $ end_lat           : num  41.9 41.8 41.7 41.9 41.7 ...\n",
      " $ end_lng           : num  -87.7 -87.6 -87.7 -87.7 -87.7 ...\n",
      " $ member_casual     : chr  \"member\" \"casual\" \"casual\" \"member\" ...\n"
     ]
    }
   ],
   "source": [
    "# check for data structure\n",
    "str(tripdata)"
   ]
  },
  {
   "cell_type": "markdown",
   "id": "ed1e97e5",
   "metadata": {
    "papermill": {
     "duration": 0.012633,
     "end_time": "2022-09-01T23:41:10.925112",
     "exception": false,
     "start_time": "2022-09-01T23:41:10.912479",
     "status": "completed"
    },
    "tags": []
   },
   "source": [
    "We can see from the output of the dataframe structure above that the data has 5,723,532 rows or observations and 13 columns or variables."
   ]
  },
  {
   "cell_type": "markdown",
   "id": "2ff08840",
   "metadata": {
    "papermill": {
     "duration": 0.012626,
     "end_time": "2022-09-01T23:41:10.950801",
     "exception": false,
     "start_time": "2022-09-01T23:41:10.938175",
     "status": "completed"
    },
    "tags": []
   },
   "source": [
    "**Data Cleaning**\n",
    "\n",
    "Now that we have an overview of the dataframe, we will clean the data and prepare for analysis."
   ]
  },
  {
   "cell_type": "markdown",
   "id": "bfcaabd7",
   "metadata": {
    "papermill": {
     "duration": 0.013196,
     "end_time": "2022-09-01T23:41:10.976311",
     "exception": false,
     "start_time": "2022-09-01T23:41:10.963115",
     "status": "completed"
    },
    "tags": []
   },
   "source": [
    "**Check for column names**"
   ]
  },
  {
   "cell_type": "code",
   "execution_count": 5,
   "id": "eb157d84",
   "metadata": {
    "execution": {
     "iopub.execute_input": "2022-09-01T23:41:11.005962Z",
     "iopub.status.busy": "2022-09-01T23:41:11.004313Z",
     "iopub.status.idle": "2022-09-01T23:41:11.025473Z",
     "shell.execute_reply": "2022-09-01T23:41:11.023592Z"
    },
    "papermill": {
     "duration": 0.038726,
     "end_time": "2022-09-01T23:41:11.028137",
     "exception": false,
     "start_time": "2022-09-01T23:41:10.989411",
     "status": "completed"
    },
    "tags": []
   },
   "outputs": [
    {
     "data": {
      "text/html": [
       "<style>\n",
       ".list-inline {list-style: none; margin:0; padding: 0}\n",
       ".list-inline>li {display: inline-block}\n",
       ".list-inline>li:not(:last-child)::after {content: \"\\00b7\"; padding: 0 .5ex}\n",
       "</style>\n",
       "<ol class=list-inline><li>'ride_id'</li><li>'rideable_type'</li><li>'started_at'</li><li>'ended_at'</li><li>'start_station_name'</li><li>'start_station_id'</li><li>'end_station_name'</li><li>'end_station_id'</li><li>'start_lat'</li><li>'start_lng'</li><li>'end_lat'</li><li>'end_lng'</li><li>'member_casual'</li></ol>\n"
      ],
      "text/latex": [
       "\\begin{enumerate*}\n",
       "\\item 'ride\\_id'\n",
       "\\item 'rideable\\_type'\n",
       "\\item 'started\\_at'\n",
       "\\item 'ended\\_at'\n",
       "\\item 'start\\_station\\_name'\n",
       "\\item 'start\\_station\\_id'\n",
       "\\item 'end\\_station\\_name'\n",
       "\\item 'end\\_station\\_id'\n",
       "\\item 'start\\_lat'\n",
       "\\item 'start\\_lng'\n",
       "\\item 'end\\_lat'\n",
       "\\item 'end\\_lng'\n",
       "\\item 'member\\_casual'\n",
       "\\end{enumerate*}\n"
      ],
      "text/markdown": [
       "1. 'ride_id'\n",
       "2. 'rideable_type'\n",
       "3. 'started_at'\n",
       "4. 'ended_at'\n",
       "5. 'start_station_name'\n",
       "6. 'start_station_id'\n",
       "7. 'end_station_name'\n",
       "8. 'end_station_id'\n",
       "9. 'start_lat'\n",
       "10. 'start_lng'\n",
       "11. 'end_lat'\n",
       "12. 'end_lng'\n",
       "13. 'member_casual'\n",
       "\n",
       "\n"
      ],
      "text/plain": [
       " [1] \"ride_id\"            \"rideable_type\"      \"started_at\"        \n",
       " [4] \"ended_at\"           \"start_station_name\" \"start_station_id\"  \n",
       " [7] \"end_station_name\"   \"end_station_id\"     \"start_lat\"         \n",
       "[10] \"start_lng\"          \"end_lat\"            \"end_lng\"           \n",
       "[13] \"member_casual\"     "
      ]
     },
     "metadata": {},
     "output_type": "display_data"
    }
   ],
   "source": [
    "# check for column names\n",
    "colnames(tripdata)"
   ]
  },
  {
   "cell_type": "code",
   "execution_count": 6,
   "id": "dccf9829",
   "metadata": {
    "execution": {
     "iopub.execute_input": "2022-09-01T23:41:11.057482Z",
     "iopub.status.busy": "2022-09-01T23:41:11.055925Z",
     "iopub.status.idle": "2022-09-01T23:41:11.108829Z",
     "shell.execute_reply": "2022-09-01T23:41:11.106825Z"
    },
    "papermill": {
     "duration": 0.070489,
     "end_time": "2022-09-01T23:41:11.111608",
     "exception": false,
     "start_time": "2022-09-01T23:41:11.041119",
     "status": "completed"
    },
    "tags": []
   },
   "outputs": [],
   "source": [
    "# rename column name of rideable_type, member_casual using the rename().\n",
    "tripdata <- rename (tripdata, ride_type = rideable_type, customer_type = member_casual)"
   ]
  },
  {
   "cell_type": "code",
   "execution_count": 7,
   "id": "d7c808f4",
   "metadata": {
    "execution": {
     "iopub.execute_input": "2022-09-01T23:41:11.141142Z",
     "iopub.status.busy": "2022-09-01T23:41:11.139416Z",
     "iopub.status.idle": "2022-09-01T23:41:11.174548Z",
     "shell.execute_reply": "2022-09-01T23:41:11.172658Z"
    },
    "papermill": {
     "duration": 0.052556,
     "end_time": "2022-09-01T23:41:11.177037",
     "exception": false,
     "start_time": "2022-09-01T23:41:11.124481",
     "status": "completed"
    },
    "tags": []
   },
   "outputs": [
    {
     "data": {
      "text/html": [
       "<table class=\"dataframe\">\n",
       "<caption>A data.frame: 6 × 13</caption>\n",
       "<thead>\n",
       "\t<tr><th></th><th scope=col>ride_id</th><th scope=col>ride_type</th><th scope=col>started_at</th><th scope=col>ended_at</th><th scope=col>start_station_name</th><th scope=col>start_station_id</th><th scope=col>end_station_name</th><th scope=col>end_station_id</th><th scope=col>start_lat</th><th scope=col>start_lng</th><th scope=col>end_lat</th><th scope=col>end_lng</th><th scope=col>customer_type</th></tr>\n",
       "\t<tr><th></th><th scope=col>&lt;chr&gt;</th><th scope=col>&lt;chr&gt;</th><th scope=col>&lt;chr&gt;</th><th scope=col>&lt;chr&gt;</th><th scope=col>&lt;chr&gt;</th><th scope=col>&lt;chr&gt;</th><th scope=col>&lt;chr&gt;</th><th scope=col>&lt;chr&gt;</th><th scope=col>&lt;dbl&gt;</th><th scope=col>&lt;dbl&gt;</th><th scope=col>&lt;dbl&gt;</th><th scope=col>&lt;dbl&gt;</th><th scope=col>&lt;chr&gt;</th></tr>\n",
       "</thead>\n",
       "<tbody>\n",
       "\t<tr><th scope=row>1</th><td>6C992BD37A98A63F</td><td>classic_bike</td><td>2021-04-12 18:25:36</td><td>2021-04-12 18:56:55</td><td><span style=white-space:pre-wrap>State St &amp; Pearson St   </span></td><td>TA1307000061</td><td>Southport Ave &amp; Waveland Ave</td><td><span style=white-space:pre-wrap>13235       </span></td><td>41.89745</td><td>-87.62872</td><td>41.94815</td><td>-87.66394</td><td>member</td></tr>\n",
       "\t<tr><th scope=row>2</th><td>1E0145613A209000</td><td>docked_bike </td><td>2021-04-27 17:27:11</td><td>2021-04-27 18:31:29</td><td>Dorchester Ave &amp; 49th St</td><td>KA1503000069</td><td><span style=white-space:pre-wrap>Dorchester Ave &amp; 49th St    </span></td><td>KA1503000069</td><td>41.80577</td><td>-87.59246</td><td>41.80577</td><td>-87.59246</td><td>casual</td></tr>\n",
       "\t<tr><th scope=row>3</th><td>E498E15508A80BAD</td><td>docked_bike </td><td>2021-04-03 12:42:45</td><td>2021-04-07 11:40:24</td><td><span style=white-space:pre-wrap>Loomis Blvd &amp; 84th St   </span></td><td><span style=white-space:pre-wrap>20121       </span></td><td><span style=white-space:pre-wrap>Loomis Blvd &amp; 84th St       </span></td><td><span style=white-space:pre-wrap>20121       </span></td><td>41.74149</td><td>-87.65841</td><td>41.74149</td><td>-87.65841</td><td>casual</td></tr>\n",
       "\t<tr><th scope=row>4</th><td>1887262AD101C604</td><td>classic_bike</td><td>2021-04-17 09:17:42</td><td>2021-04-17 09:42:48</td><td>Honore St &amp; Division St </td><td>TA1305000034</td><td>Southport Ave &amp; Waveland Ave</td><td><span style=white-space:pre-wrap>13235       </span></td><td>41.90312</td><td>-87.67394</td><td>41.94815</td><td>-87.66394</td><td>member</td></tr>\n",
       "\t<tr><th scope=row>5</th><td>C123548CAB2A32A5</td><td>docked_bike </td><td>2021-04-03 12:42:25</td><td>2021-04-03 14:13:42</td><td><span style=white-space:pre-wrap>Loomis Blvd &amp; 84th St   </span></td><td><span style=white-space:pre-wrap>20121       </span></td><td><span style=white-space:pre-wrap>Loomis Blvd &amp; 84th St       </span></td><td><span style=white-space:pre-wrap>20121       </span></td><td>41.74149</td><td>-87.65841</td><td>41.74149</td><td>-87.65841</td><td>casual</td></tr>\n",
       "\t<tr><th scope=row>6</th><td>097E76F3651B1AC1</td><td>classic_bike</td><td>2021-04-25 18:43:18</td><td>2021-04-25 18:43:59</td><td><span style=white-space:pre-wrap>Clinton St &amp; Polk St    </span></td><td><span style=white-space:pre-wrap>15542       </span></td><td><span style=white-space:pre-wrap>Clinton St &amp; Polk St        </span></td><td><span style=white-space:pre-wrap>15542       </span></td><td>41.87147</td><td>-87.64095</td><td>41.87147</td><td>-87.64095</td><td>casual</td></tr>\n",
       "</tbody>\n",
       "</table>\n"
      ],
      "text/latex": [
       "A data.frame: 6 × 13\n",
       "\\begin{tabular}{r|lllllllllllll}\n",
       "  & ride\\_id & ride\\_type & started\\_at & ended\\_at & start\\_station\\_name & start\\_station\\_id & end\\_station\\_name & end\\_station\\_id & start\\_lat & start\\_lng & end\\_lat & end\\_lng & customer\\_type\\\\\n",
       "  & <chr> & <chr> & <chr> & <chr> & <chr> & <chr> & <chr> & <chr> & <dbl> & <dbl> & <dbl> & <dbl> & <chr>\\\\\n",
       "\\hline\n",
       "\t1 & 6C992BD37A98A63F & classic\\_bike & 2021-04-12 18:25:36 & 2021-04-12 18:56:55 & State St \\& Pearson St    & TA1307000061 & Southport Ave \\& Waveland Ave & 13235        & 41.89745 & -87.62872 & 41.94815 & -87.66394 & member\\\\\n",
       "\t2 & 1E0145613A209000 & docked\\_bike  & 2021-04-27 17:27:11 & 2021-04-27 18:31:29 & Dorchester Ave \\& 49th St & KA1503000069 & Dorchester Ave \\& 49th St     & KA1503000069 & 41.80577 & -87.59246 & 41.80577 & -87.59246 & casual\\\\\n",
       "\t3 & E498E15508A80BAD & docked\\_bike  & 2021-04-03 12:42:45 & 2021-04-07 11:40:24 & Loomis Blvd \\& 84th St    & 20121        & Loomis Blvd \\& 84th St        & 20121        & 41.74149 & -87.65841 & 41.74149 & -87.65841 & casual\\\\\n",
       "\t4 & 1887262AD101C604 & classic\\_bike & 2021-04-17 09:17:42 & 2021-04-17 09:42:48 & Honore St \\& Division St  & TA1305000034 & Southport Ave \\& Waveland Ave & 13235        & 41.90312 & -87.67394 & 41.94815 & -87.66394 & member\\\\\n",
       "\t5 & C123548CAB2A32A5 & docked\\_bike  & 2021-04-03 12:42:25 & 2021-04-03 14:13:42 & Loomis Blvd \\& 84th St    & 20121        & Loomis Blvd \\& 84th St        & 20121        & 41.74149 & -87.65841 & 41.74149 & -87.65841 & casual\\\\\n",
       "\t6 & 097E76F3651B1AC1 & classic\\_bike & 2021-04-25 18:43:18 & 2021-04-25 18:43:59 & Clinton St \\& Polk St     & 15542        & Clinton St \\& Polk St         & 15542        & 41.87147 & -87.64095 & 41.87147 & -87.64095 & casual\\\\\n",
       "\\end{tabular}\n"
      ],
      "text/markdown": [
       "\n",
       "A data.frame: 6 × 13\n",
       "\n",
       "| <!--/--> | ride_id &lt;chr&gt; | ride_type &lt;chr&gt; | started_at &lt;chr&gt; | ended_at &lt;chr&gt; | start_station_name &lt;chr&gt; | start_station_id &lt;chr&gt; | end_station_name &lt;chr&gt; | end_station_id &lt;chr&gt; | start_lat &lt;dbl&gt; | start_lng &lt;dbl&gt; | end_lat &lt;dbl&gt; | end_lng &lt;dbl&gt; | customer_type &lt;chr&gt; |\n",
       "|---|---|---|---|---|---|---|---|---|---|---|---|---|---|\n",
       "| 1 | 6C992BD37A98A63F | classic_bike | 2021-04-12 18:25:36 | 2021-04-12 18:56:55 | State St &amp; Pearson St    | TA1307000061 | Southport Ave &amp; Waveland Ave | 13235        | 41.89745 | -87.62872 | 41.94815 | -87.66394 | member |\n",
       "| 2 | 1E0145613A209000 | docked_bike  | 2021-04-27 17:27:11 | 2021-04-27 18:31:29 | Dorchester Ave &amp; 49th St | KA1503000069 | Dorchester Ave &amp; 49th St     | KA1503000069 | 41.80577 | -87.59246 | 41.80577 | -87.59246 | casual |\n",
       "| 3 | E498E15508A80BAD | docked_bike  | 2021-04-03 12:42:45 | 2021-04-07 11:40:24 | Loomis Blvd &amp; 84th St    | 20121        | Loomis Blvd &amp; 84th St        | 20121        | 41.74149 | -87.65841 | 41.74149 | -87.65841 | casual |\n",
       "| 4 | 1887262AD101C604 | classic_bike | 2021-04-17 09:17:42 | 2021-04-17 09:42:48 | Honore St &amp; Division St  | TA1305000034 | Southport Ave &amp; Waveland Ave | 13235        | 41.90312 | -87.67394 | 41.94815 | -87.66394 | member |\n",
       "| 5 | C123548CAB2A32A5 | docked_bike  | 2021-04-03 12:42:25 | 2021-04-03 14:13:42 | Loomis Blvd &amp; 84th St    | 20121        | Loomis Blvd &amp; 84th St        | 20121        | 41.74149 | -87.65841 | 41.74149 | -87.65841 | casual |\n",
       "| 6 | 097E76F3651B1AC1 | classic_bike | 2021-04-25 18:43:18 | 2021-04-25 18:43:59 | Clinton St &amp; Polk St     | 15542        | Clinton St &amp; Polk St         | 15542        | 41.87147 | -87.64095 | 41.87147 | -87.64095 | casual |\n",
       "\n"
      ],
      "text/plain": [
       "  ride_id          ride_type    started_at          ended_at           \n",
       "1 6C992BD37A98A63F classic_bike 2021-04-12 18:25:36 2021-04-12 18:56:55\n",
       "2 1E0145613A209000 docked_bike  2021-04-27 17:27:11 2021-04-27 18:31:29\n",
       "3 E498E15508A80BAD docked_bike  2021-04-03 12:42:45 2021-04-07 11:40:24\n",
       "4 1887262AD101C604 classic_bike 2021-04-17 09:17:42 2021-04-17 09:42:48\n",
       "5 C123548CAB2A32A5 docked_bike  2021-04-03 12:42:25 2021-04-03 14:13:42\n",
       "6 097E76F3651B1AC1 classic_bike 2021-04-25 18:43:18 2021-04-25 18:43:59\n",
       "  start_station_name       start_station_id end_station_name            \n",
       "1 State St & Pearson St    TA1307000061     Southport Ave & Waveland Ave\n",
       "2 Dorchester Ave & 49th St KA1503000069     Dorchester Ave & 49th St    \n",
       "3 Loomis Blvd & 84th St    20121            Loomis Blvd & 84th St       \n",
       "4 Honore St & Division St  TA1305000034     Southport Ave & Waveland Ave\n",
       "5 Loomis Blvd & 84th St    20121            Loomis Blvd & 84th St       \n",
       "6 Clinton St & Polk St     15542            Clinton St & Polk St        \n",
       "  end_station_id start_lat start_lng end_lat  end_lng   customer_type\n",
       "1 13235          41.89745  -87.62872 41.94815 -87.66394 member       \n",
       "2 KA1503000069   41.80577  -87.59246 41.80577 -87.59246 casual       \n",
       "3 20121          41.74149  -87.65841 41.74149 -87.65841 casual       \n",
       "4 13235          41.90312  -87.67394 41.94815 -87.66394 member       \n",
       "5 20121          41.74149  -87.65841 41.74149 -87.65841 casual       \n",
       "6 15542          41.87147  -87.64095 41.87147 -87.64095 casual       "
      ]
     },
     "metadata": {},
     "output_type": "display_data"
    }
   ],
   "source": [
    "#By using the head(), I checked the dataframe to view the first six columns.\n",
    "head(tripdata)"
   ]
  },
  {
   "cell_type": "markdown",
   "id": "2cc5db17",
   "metadata": {
    "papermill": {
     "duration": 0.013537,
     "end_time": "2022-09-01T23:41:11.203612",
     "exception": false,
     "start_time": "2022-09-01T23:41:11.190075",
     "status": "completed"
    },
    "tags": []
   },
   "source": [
    "**Check for duplicate and remove duplicated rows on the *rides_id* column.**\n",
    "\n",
    "-   Trip_data_nd will be the dataframe's new name with no duplicates. Following that, the print function was used to determine how many duplicated rows were removed from the tripdata dataframe."
   ]
  },
  {
   "cell_type": "code",
   "execution_count": 8,
   "id": "b60cd27b",
   "metadata": {
    "execution": {
     "iopub.execute_input": "2022-09-01T23:41:11.233488Z",
     "iopub.status.busy": "2022-09-01T23:41:11.231778Z",
     "iopub.status.idle": "2022-09-01T23:41:21.685293Z",
     "shell.execute_reply": "2022-09-01T23:41:21.683109Z"
    },
    "papermill": {
     "duration": 10.471616,
     "end_time": "2022-09-01T23:41:21.688197",
     "exception": false,
     "start_time": "2022-09-01T23:41:11.216581",
     "status": "completed"
    },
    "tags": []
   },
   "outputs": [
    {
     "name": "stdout",
     "output_type": "stream",
     "text": [
      "[1] \"Removed 0 duplicated rows\"\n"
     ]
    }
   ],
   "source": [
    "# Remove duplicate rows of the dataframe using NAME variable\n",
    "tripdata_nd <-tripdata[!duplicated(tripdata$ride_id),]\n",
    "# print differences in original data and distinct data\n",
    "print(paste(\"Removed\", nrow(tripdata) - nrow(tripdata_nd), \"duplicated rows\"))"
   ]
  },
  {
   "cell_type": "markdown",
   "id": "fb2f1589",
   "metadata": {
    "papermill": {
     "duration": 0.014209,
     "end_time": "2022-09-01T23:41:21.716556",
     "exception": false,
     "start_time": "2022-09-01T23:41:21.702347",
     "status": "completed"
    },
    "tags": []
   },
   "source": [
    "The outcome shows that there are no duplicate rows in the ride id column."
   ]
  },
  {
   "cell_type": "markdown",
   "id": "137696d0",
   "metadata": {
    "papermill": {
     "duration": 0.015457,
     "end_time": "2022-09-01T23:41:21.746101",
     "exception": false,
     "start_time": "2022-09-01T23:41:21.730644",
     "status": "completed"
    },
    "tags": []
   },
   "source": [
    "**Parse datetime Column**\n",
    "\n",
    "-   When data is imported, the date-time column is read as a character (string) format. Using the lubridate library, we convert the date-time character to a POSIXct. format using the as. POSIXct method and store both data and time with an associated time zone\n",
    "\n",
    "Reference [here](https://www.neonscience.org/resources/learning-hub/tutorials/dc-convert-date-time-posix-r)"
   ]
  },
  {
   "cell_type": "code",
   "execution_count": 9,
   "id": "e9df4d03",
   "metadata": {
    "execution": {
     "iopub.execute_input": "2022-09-01T23:41:21.778490Z",
     "iopub.status.busy": "2022-09-01T23:41:21.776890Z",
     "iopub.status.idle": "2022-09-01T23:42:01.393119Z",
     "shell.execute_reply": "2022-09-01T23:42:01.391241Z"
    },
    "papermill": {
     "duration": 39.634907,
     "end_time": "2022-09-01T23:42:01.395647",
     "exception": false,
     "start_time": "2022-09-01T23:41:21.760740",
     "status": "completed"
    },
    "tags": []
   },
   "outputs": [],
   "source": [
    "# parsing date-time columns\n",
    "tripdata_nd$started_at <- as.POSIXct(tripdata_nd$started_at, \"%Y-%m-%d %H:%M:%S\")\n",
    "tripdata_nd$ended_at <- as.POSIXct(tripdata_nd$ended_at, \"%Y-%m-%d %H:%M:%S\")"
   ]
  },
  {
   "cell_type": "markdown",
   "id": "5060548e",
   "metadata": {
    "papermill": {
     "duration": 0.01322,
     "end_time": "2022-09-01T23:42:01.422537",
     "exception": false,
     "start_time": "2022-09-01T23:42:01.409317",
     "status": "completed"
    },
    "tags": []
   },
   "source": [
    "**Manipulating the Data**\n",
    "\n",
    "-   Add columns that list the date, day, month and year of each ride. This allow us to aggregate ride data for each month, day, or year. Before completing these operations we could only aggregate at the ride level. More on date formats in R found in this link [link](https://www.statmethods.net/input/dates.html)"
   ]
  },
  {
   "cell_type": "code",
   "execution_count": 10,
   "id": "98631f0c",
   "metadata": {
    "execution": {
     "iopub.execute_input": "2022-09-01T23:42:01.452748Z",
     "iopub.status.busy": "2022-09-01T23:42:01.450788Z",
     "iopub.status.idle": "2022-09-01T23:42:12.737633Z",
     "shell.execute_reply": "2022-09-01T23:42:12.735751Z"
    },
    "papermill": {
     "duration": 11.304871,
     "end_time": "2022-09-01T23:42:12.740543",
     "exception": false,
     "start_time": "2022-09-01T23:42:01.435672",
     "status": "completed"
    },
    "tags": []
   },
   "outputs": [],
   "source": [
    "# The default format is yyyy-mm-dd\n",
    "tripdata_nd$date <- as.Date(tripdata_nd$started_at)\n",
    "tripdata_nd$day <- format(as.Date(tripdata_nd$date), \"%d\")\n",
    "tripdata_nd$month <- format(as.Date(tripdata_nd$date), \"%m\")\n",
    "tripdata_nd$year <- format(as.Date(tripdata_nd$date), \"%Y\")\n",
    "tripdata_nd$day_of_week <- format(as.Date(tripdata_nd$date), \"%A\")"
   ]
  },
  {
   "cell_type": "markdown",
   "id": "f08aa424",
   "metadata": {
    "papermill": {
     "duration": 0.013966,
     "end_time": "2022-09-01T23:42:12.767640",
     "exception": false,
     "start_time": "2022-09-01T23:42:12.753674",
     "status": "completed"
    },
    "tags": []
   },
   "source": [
    "-   Create a column called \"ride_length\". Calculate the length of each ride by subtracting the column \"started_at\" from the column \"ended_at\"."
   ]
  },
  {
   "cell_type": "code",
   "execution_count": 11,
   "id": "59fde298",
   "metadata": {
    "execution": {
     "iopub.execute_input": "2022-09-01T23:42:12.799053Z",
     "iopub.status.busy": "2022-09-01T23:42:12.797325Z",
     "iopub.status.idle": "2022-09-01T23:42:12.857944Z",
     "shell.execute_reply": "2022-09-01T23:42:12.855990Z"
    },
    "papermill": {
     "duration": 0.078903,
     "end_time": "2022-09-01T23:42:12.860457",
     "exception": false,
     "start_time": "2022-09-01T23:42:12.781554",
     "status": "completed"
    },
    "tags": []
   },
   "outputs": [],
   "source": [
    "# Add a \"ride_length\" calculation to all_trips (in seconds)\n",
    "tripdata_nd$ride_length <- difftime(tripdata_nd$ended_at,tripdata_nd$started_at)"
   ]
  },
  {
   "cell_type": "code",
   "execution_count": 12,
   "id": "cf34d587",
   "metadata": {
    "execution": {
     "iopub.execute_input": "2022-09-01T23:42:12.890408Z",
     "iopub.status.busy": "2022-09-01T23:42:12.888621Z",
     "iopub.status.idle": "2022-09-01T23:42:12.941327Z",
     "shell.execute_reply": "2022-09-01T23:42:12.938382Z"
    },
    "papermill": {
     "duration": 0.071008,
     "end_time": "2022-09-01T23:42:12.944552",
     "exception": false,
     "start_time": "2022-09-01T23:42:12.873544",
     "status": "completed"
    },
    "tags": []
   },
   "outputs": [
    {
     "name": "stdout",
     "output_type": "stream",
     "text": [
      "'data.frame':\t5723532 obs. of  19 variables:\n",
      " $ ride_id           : chr  \"6C992BD37A98A63F\" \"1E0145613A209000\" \"E498E15508A80BAD\" \"1887262AD101C604\" ...\n",
      " $ ride_type         : chr  \"classic_bike\" \"docked_bike\" \"docked_bike\" \"classic_bike\" ...\n",
      " $ started_at        : POSIXct, format: \"2021-04-12 18:25:36\" \"2021-04-27 17:27:11\" ...\n",
      " $ ended_at          : POSIXct, format: \"2021-04-12 18:56:55\" \"2021-04-27 18:31:29\" ...\n",
      " $ start_station_name: chr  \"State St & Pearson St\" \"Dorchester Ave & 49th St\" \"Loomis Blvd & 84th St\" \"Honore St & Division St\" ...\n",
      " $ start_station_id  : chr  \"TA1307000061\" \"KA1503000069\" \"20121\" \"TA1305000034\" ...\n",
      " $ end_station_name  : chr  \"Southport Ave & Waveland Ave\" \"Dorchester Ave & 49th St\" \"Loomis Blvd & 84th St\" \"Southport Ave & Waveland Ave\" ...\n",
      " $ end_station_id    : chr  \"13235\" \"KA1503000069\" \"20121\" \"13235\" ...\n",
      " $ start_lat         : num  41.9 41.8 41.7 41.9 41.7 ...\n",
      " $ start_lng         : num  -87.6 -87.6 -87.7 -87.7 -87.7 ...\n",
      " $ end_lat           : num  41.9 41.8 41.7 41.9 41.7 ...\n",
      " $ end_lng           : num  -87.7 -87.6 -87.7 -87.7 -87.7 ...\n",
      " $ customer_type     : chr  \"member\" \"casual\" \"casual\" \"member\" ...\n",
      " $ date              : Date, format: \"2021-04-12\" \"2021-04-27\" ...\n",
      " $ day               : chr  \"12\" \"27\" \"03\" \"17\" ...\n",
      " $ month             : chr  \"04\" \"04\" \"04\" \"04\" ...\n",
      " $ year              : chr  \"2021\" \"2021\" \"2021\" \"2021\" ...\n",
      " $ day_of_week       : chr  \"Monday\" \"Tuesday\" \"Saturday\" \"Saturday\" ...\n",
      " $ ride_length       : 'difftime' num  1879 3858 341859 1506 ...\n",
      "  ..- attr(*, \"units\")= chr \"secs\"\n"
     ]
    }
   ],
   "source": [
    "# Inspect the structure of the columns\n",
    "str(tripdata_nd)"
   ]
  },
  {
   "cell_type": "markdown",
   "id": "8444edc7",
   "metadata": {
    "papermill": {
     "duration": 0.01334,
     "end_time": "2022-09-01T23:42:12.971687",
     "exception": false,
     "start_time": "2022-09-01T23:42:12.958347",
     "status": "completed"
    },
    "tags": []
   },
   "source": [
    "-   Convert \"ride_length\" from factor to numeric so we can run calculations on the data."
   ]
  },
  {
   "cell_type": "code",
   "execution_count": 13,
   "id": "f77b53d0",
   "metadata": {
    "execution": {
     "iopub.execute_input": "2022-09-01T23:42:13.003059Z",
     "iopub.status.busy": "2022-09-01T23:42:13.001090Z",
     "iopub.status.idle": "2022-09-01T23:42:20.016426Z",
     "shell.execute_reply": "2022-09-01T23:42:20.014526Z"
    },
    "papermill": {
     "duration": 7.034289,
     "end_time": "2022-09-01T23:42:20.019635",
     "exception": false,
     "start_time": "2022-09-01T23:42:12.985346",
     "status": "completed"
    },
    "tags": []
   },
   "outputs": [
    {
     "data": {
      "text/html": [
       "FALSE"
      ],
      "text/latex": [
       "FALSE"
      ],
      "text/markdown": [
       "FALSE"
      ],
      "text/plain": [
       "[1] FALSE"
      ]
     },
     "metadata": {},
     "output_type": "display_data"
    },
    {
     "data": {
      "text/html": [
       "TRUE"
      ],
      "text/latex": [
       "TRUE"
      ],
      "text/markdown": [
       "TRUE"
      ],
      "text/plain": [
       "[1] TRUE"
      ]
     },
     "metadata": {},
     "output_type": "display_data"
    }
   ],
   "source": [
    "is.factor(tripdata_nd$ride_length)\n",
    "tripdata_nd$ride_length <- as.numeric(as.character(tripdata_nd$ride_length))\n",
    "is.numeric(tripdata_nd$ride_length)"
   ]
  },
  {
   "cell_type": "markdown",
   "id": "e58bc8a6",
   "metadata": {
    "papermill": {
     "duration": 0.027412,
     "end_time": "2022-09-01T23:42:20.066661",
     "exception": false,
     "start_time": "2022-09-01T23:42:20.039249",
     "status": "completed"
    },
    "tags": []
   },
   "source": [
    "**Remove bad data**\n",
    "\n",
    "-   The dataframe includes a few hundred entries when bikes were taken out of docks and checked for quality by Divvy or ride_length was negative.\n"
   ]
  },
  {
   "cell_type": "code",
   "execution_count": 14,
   "id": "d6340e5c",
   "metadata": {
    "execution": {
     "iopub.execute_input": "2022-09-01T23:42:20.100435Z",
     "iopub.status.busy": "2022-09-01T23:42:20.097838Z",
     "iopub.status.idle": "2022-09-01T23:42:21.645578Z",
     "shell.execute_reply": "2022-09-01T23:42:21.643539Z"
    },
    "papermill": {
     "duration": 1.566878,
     "end_time": "2022-09-01T23:42:21.648270",
     "exception": false,
     "start_time": "2022-09-01T23:42:20.081392",
     "status": "completed"
    },
    "tags": []
   },
   "outputs": [
    {
     "data": {
      "text/html": [
       "145"
      ],
      "text/latex": [
       "145"
      ],
      "text/markdown": [
       "145"
      ],
      "text/plain": [
       "[1] 145"
      ]
     },
     "metadata": {},
     "output_type": "display_data"
    }
   ],
   "source": [
    "nrow(subset(tripdata_nd, ride_length < 0))"
   ]
  },
  {
   "cell_type": "markdown",
   "id": "fcf47dae",
   "metadata": {
    "papermill": {
     "duration": 0.015446,
     "end_time": "2022-09-01T23:42:21.678469",
     "exception": false,
     "start_time": "2022-09-01T23:42:21.663023",
     "status": "completed"
    },
    "tags": []
   },
   "source": [
    "The result shows there are 145 negative values in the ride_length column."
   ]
  },
  {
   "cell_type": "markdown",
   "id": "321bb9aa",
   "metadata": {
    "papermill": {
     "duration": 0.015157,
     "end_time": "2022-09-01T23:42:21.708517",
     "exception": false,
     "start_time": "2022-09-01T23:42:21.693360",
     "status": "completed"
    },
    "tags": []
   },
   "source": [
    "-   We will create a new version of the dataframe (v2) since data is being removed"
   ]
  },
  {
   "cell_type": "code",
   "execution_count": 15,
   "id": "275df5c2",
   "metadata": {
    "execution": {
     "iopub.execute_input": "2022-09-01T23:42:21.741153Z",
     "iopub.status.busy": "2022-09-01T23:42:21.739547Z",
     "iopub.status.idle": "2022-09-01T23:42:26.079029Z",
     "shell.execute_reply": "2022-09-01T23:42:26.077161Z"
    },
    "papermill": {
     "duration": 4.358754,
     "end_time": "2022-09-01T23:42:26.081873",
     "exception": false,
     "start_time": "2022-09-01T23:42:21.723119",
     "status": "completed"
    },
    "tags": []
   },
   "outputs": [],
   "source": [
    "tripdata_nd_v2 <- tripdata_nd[!(tripdata_nd$start_station_name == \"HQ QR\" | tripdata_nd$ride_length<0),]"
   ]
  },
  {
   "cell_type": "markdown",
   "id": "05aeeeaf",
   "metadata": {
    "papermill": {
     "duration": 0.014579,
     "end_time": "2022-09-01T23:42:26.110555",
     "exception": false,
     "start_time": "2022-09-01T23:42:26.095976",
     "status": "completed"
    },
    "tags": []
   },
   "source": [
    "-   Removing null values"
   ]
  },
  {
   "cell_type": "code",
   "execution_count": 16,
   "id": "fc4bf9f3",
   "metadata": {
    "execution": {
     "iopub.execute_input": "2022-09-01T23:42:26.141370Z",
     "iopub.status.busy": "2022-09-01T23:42:26.139684Z",
     "iopub.status.idle": "2022-09-01T23:42:43.432318Z",
     "shell.execute_reply": "2022-09-01T23:42:43.430310Z"
    },
    "papermill": {
     "duration": 17.312468,
     "end_time": "2022-09-01T23:42:43.436678",
     "exception": false,
     "start_time": "2022-09-01T23:42:26.124210",
     "status": "completed"
    },
    "tags": []
   },
   "outputs": [],
   "source": [
    "tripdata_nd_v2 <- tripdata_nd_v2 %>% na.omit()"
   ]
  },
  {
   "cell_type": "code",
   "execution_count": 17,
   "id": "e94efa66",
   "metadata": {
    "execution": {
     "iopub.execute_input": "2022-09-01T23:42:43.468821Z",
     "iopub.status.busy": "2022-09-01T23:42:43.467133Z",
     "iopub.status.idle": "2022-09-01T23:42:43.502782Z",
     "shell.execute_reply": "2022-09-01T23:42:43.500653Z"
    },
    "papermill": {
     "duration": 0.055455,
     "end_time": "2022-09-01T23:42:43.506338",
     "exception": false,
     "start_time": "2022-09-01T23:42:43.450883",
     "status": "completed"
    },
    "tags": []
   },
   "outputs": [
    {
     "name": "stdout",
     "output_type": "stream",
     "text": [
      "Rows: 5,718,671\n",
      "Columns: 19\n",
      "$ ride_id            \u001b[3m\u001b[90m<chr>\u001b[39m\u001b[23m \"6C992BD37A98A63F\", \"1E0145613A209000\", \"E498E15508…\n",
      "$ ride_type          \u001b[3m\u001b[90m<chr>\u001b[39m\u001b[23m \"classic_bike\", \"docked_bike\", \"docked_bike\", \"clas…\n",
      "$ started_at         \u001b[3m\u001b[90m<dttm>\u001b[39m\u001b[23m 2021-04-12 18:25:36, 2021-04-27 17:27:11, 2021-04-…\n",
      "$ ended_at           \u001b[3m\u001b[90m<dttm>\u001b[39m\u001b[23m 2021-04-12 18:56:55, 2021-04-27 18:31:29, 2021-04-…\n",
      "$ start_station_name \u001b[3m\u001b[90m<chr>\u001b[39m\u001b[23m \"State St & Pearson St\", \"Dorchester Ave & 49th St\"…\n",
      "$ start_station_id   \u001b[3m\u001b[90m<chr>\u001b[39m\u001b[23m \"TA1307000061\", \"KA1503000069\", \"20121\", \"TA1305000…\n",
      "$ end_station_name   \u001b[3m\u001b[90m<chr>\u001b[39m\u001b[23m \"Southport Ave & Waveland Ave\", \"Dorchester Ave & 4…\n",
      "$ end_station_id     \u001b[3m\u001b[90m<chr>\u001b[39m\u001b[23m \"13235\", \"KA1503000069\", \"20121\", \"13235\", \"20121\",…\n",
      "$ start_lat          \u001b[3m\u001b[90m<dbl>\u001b[39m\u001b[23m 41.89745, 41.80577, 41.74149, 41.90312, 41.74149, 4…\n",
      "$ start_lng          \u001b[3m\u001b[90m<dbl>\u001b[39m\u001b[23m -87.62872, -87.59246, -87.65841, -87.67394, -87.658…\n",
      "$ end_lat            \u001b[3m\u001b[90m<dbl>\u001b[39m\u001b[23m 41.94815, 41.80577, 41.74149, 41.94815, 41.74149, 4…\n",
      "$ end_lng            \u001b[3m\u001b[90m<dbl>\u001b[39m\u001b[23m -87.66394, -87.59246, -87.65841, -87.66394, -87.658…\n",
      "$ customer_type      \u001b[3m\u001b[90m<chr>\u001b[39m\u001b[23m \"member\", \"casual\", \"casual\", \"member\", \"casual\", \"…\n",
      "$ date               \u001b[3m\u001b[90m<date>\u001b[39m\u001b[23m 2021-04-12, 2021-04-27, 2021-04-03, 2021-04-17, 20…\n",
      "$ day                \u001b[3m\u001b[90m<chr>\u001b[39m\u001b[23m \"12\", \"27\", \"03\", \"17\", \"03\", \"25\", \"03\", \"06\", \"12…\n",
      "$ month              \u001b[3m\u001b[90m<chr>\u001b[39m\u001b[23m \"04\", \"04\", \"04\", \"04\", \"04\", \"04\", \"04\", \"04\", \"04…\n",
      "$ year               \u001b[3m\u001b[90m<chr>\u001b[39m\u001b[23m \"2021\", \"2021\", \"2021\", \"2021\", \"2021\", \"2021\", \"20…\n",
      "$ day_of_week        \u001b[3m\u001b[90m<chr>\u001b[39m\u001b[23m \"Monday\", \"Tuesday\", \"Saturday\", \"Saturday\", \"Satur…\n",
      "$ ride_length        \u001b[3m\u001b[90m<dbl>\u001b[39m\u001b[23m 1879, 3858, 341859, 1506, 5477, 41, 86, 1550, 3174,…\n"
     ]
    }
   ],
   "source": [
    "glimpse(tripdata_nd_v2)"
   ]
  },
  {
   "cell_type": "markdown",
   "id": "a68e3e92",
   "metadata": {
    "papermill": {
     "duration": 0.014702,
     "end_time": "2022-09-01T23:42:43.535835",
     "exception": false,
     "start_time": "2022-09-01T23:42:43.521133",
     "status": "completed"
    },
    "tags": []
   },
   "source": [
    "After removing the null values, we now have 5,718,671 row in our dataframe."
   ]
  },
  {
   "cell_type": "markdown",
   "id": "70f7fe9d",
   "metadata": {
    "papermill": {
     "duration": 0.013851,
     "end_time": "2022-09-01T23:42:43.603872",
     "exception": false,
     "start_time": "2022-09-01T23:42:43.590021",
     "status": "completed"
    },
    "tags": []
   },
   "source": [
    "# Analyse\n",
    "\n",
    "-   Conduct a Descriptive analysis on ride_length (all figures in seconds)"
   ]
  },
  {
   "cell_type": "code",
   "execution_count": 18,
   "id": "55b5d040",
   "metadata": {
    "execution": {
     "iopub.execute_input": "2022-09-01T23:42:43.634868Z",
     "iopub.status.busy": "2022-09-01T23:42:43.633300Z",
     "iopub.status.idle": "2022-09-01T23:42:43.896444Z",
     "shell.execute_reply": "2022-09-01T23:42:43.894475Z"
    },
    "papermill": {
     "duration": 0.281382,
     "end_time": "2022-09-01T23:42:43.898971",
     "exception": false,
     "start_time": "2022-09-01T23:42:43.617589",
     "status": "completed"
    },
    "tags": []
   },
   "outputs": [
    {
     "data": {
      "text/html": [
       "1230.20572454684"
      ],
      "text/latex": [
       "1230.20572454684"
      ],
      "text/markdown": [
       "1230.20572454684"
      ],
      "text/plain": [
       "[1] 1230.206"
      ]
     },
     "metadata": {},
     "output_type": "display_data"
    },
    {
     "data": {
      "text/html": [
       "703"
      ],
      "text/latex": [
       "703"
      ],
      "text/markdown": [
       "703"
      ],
      "text/plain": [
       "[1] 703"
      ]
     },
     "metadata": {},
     "output_type": "display_data"
    },
    {
     "data": {
      "text/html": [
       "3356649"
      ],
      "text/latex": [
       "3356649"
      ],
      "text/markdown": [
       "3356649"
      ],
      "text/plain": [
       "[1] 3356649"
      ]
     },
     "metadata": {},
     "output_type": "display_data"
    },
    {
     "data": {
      "text/html": [
       "0"
      ],
      "text/latex": [
       "0"
      ],
      "text/markdown": [
       "0"
      ],
      "text/plain": [
       "[1] 0"
      ]
     },
     "metadata": {},
     "output_type": "display_data"
    }
   ],
   "source": [
    "# straight average (total ride length / rides)\n",
    "mean(tripdata_nd_v2$ride_length)\n",
    "#midpoint number in the ascending array of ride lengths\n",
    "median(tripdata_nd_v2$ride_length)\n",
    "# longest ride\n",
    "max(tripdata_nd_v2$ride_length)\n",
    "# shortest ride\n",
    "min(tripdata_nd_v2$ride_length)"
   ]
  },
  {
   "cell_type": "code",
   "execution_count": 19,
   "id": "e6844b65",
   "metadata": {
    "execution": {
     "iopub.execute_input": "2022-09-01T23:42:43.932048Z",
     "iopub.status.busy": "2022-09-01T23:42:43.930478Z",
     "iopub.status.idle": "2022-09-01T23:42:48.384179Z",
     "shell.execute_reply": "2022-09-01T23:42:48.382377Z"
    },
    "papermill": {
     "duration": 4.473189,
     "end_time": "2022-09-01T23:42:48.387202",
     "exception": false,
     "start_time": "2022-09-01T23:42:43.914013",
     "status": "completed"
    },
    "tags": []
   },
   "outputs": [
    {
     "data": {
      "text/plain": [
       "   ride_id           ride_type           started_at                 \n",
       " Length:5718671     Length:5718671     Min.   :2021-04-01 00:03:18  \n",
       " Class :character   Class :character   1st Qu.:2021-06-22 15:24:01  \n",
       " Mode  :character   Mode  :character   Median :2021-08-17 18:27:51  \n",
       "                                       Mean   :2021-08-26 22:30:57  \n",
       "                                       3rd Qu.:2021-10-14 19:57:02  \n",
       "                                       Max.   :2022-03-31 23:59:47  \n",
       "    ended_at                   start_station_name start_station_id  \n",
       " Min.   :2021-04-01 00:14:29   Length:5718671     Length:5718671    \n",
       " 1st Qu.:2021-06-22 15:49:58   Class :character   Class :character  \n",
       " Median :2021-08-17 18:46:29   Mode  :character   Mode  :character  \n",
       " Mean   :2021-08-26 22:51:28                                        \n",
       " 3rd Qu.:2021-10-14 20:11:49                                        \n",
       " Max.   :2022-04-01 22:10:12                                        \n",
       " end_station_name   end_station_id       start_lat       start_lng     \n",
       " Length:5718671     Length:5718671     Min.   :41.64   Min.   :-87.84  \n",
       " Class :character   Class :character   1st Qu.:41.88   1st Qu.:-87.66  \n",
       " Mode  :character   Mode  :character   Median :41.90   Median :-87.64  \n",
       "                                       Mean   :41.90   Mean   :-87.65  \n",
       "                                       3rd Qu.:41.93   3rd Qu.:-87.63  \n",
       "                                       Max.   :45.64   Max.   :-73.80  \n",
       "    end_lat         end_lng       customer_type           date           \n",
       " Min.   :41.39   Min.   :-88.97   Length:5718671     Min.   :2021-04-01  \n",
       " 1st Qu.:41.88   1st Qu.:-87.66   Class :character   1st Qu.:2021-06-22  \n",
       " Median :41.90   Median :-87.64   Mode  :character   Median :2021-08-17  \n",
       " Mean   :41.90   Mean   :-87.65                      Mean   :2021-08-26  \n",
       " 3rd Qu.:41.93   3rd Qu.:-87.63                      3rd Qu.:2021-10-14  \n",
       " Max.   :42.17   Max.   :-87.49                      Max.   :2022-03-31  \n",
       "     day               month               year           day_of_week       \n",
       " Length:5718671     Length:5718671     Length:5718671     Length:5718671    \n",
       " Class :character   Class :character   Class :character   Class :character  \n",
       " Mode  :character   Mode  :character   Mode  :character   Mode  :character  \n",
       "                                                                            \n",
       "                                                                            \n",
       "                                                                            \n",
       "  ride_length     \n",
       " Min.   :      0  \n",
       " 1st Qu.:    394  \n",
       " Median :    703  \n",
       " Mean   :   1230  \n",
       " 3rd Qu.:   1277  \n",
       " Max.   :3356649  "
      ]
     },
     "metadata": {},
     "output_type": "display_data"
    }
   ],
   "source": [
    "# An overview of our v2 dataframe using the summary()\n",
    "summary(tripdata_nd_v2)"
   ]
  },
  {
   "cell_type": "markdown",
   "id": "84c37227",
   "metadata": {
    "papermill": {
     "duration": 0.014984,
     "end_time": "2022-09-01T23:42:48.417313",
     "exception": false,
     "start_time": "2022-09-01T23:42:48.402329",
     "status": "completed"
    },
    "tags": []
   },
   "source": []
  },
  {
   "cell_type": "markdown",
   "id": "1304cd31",
   "metadata": {
    "papermill": {
     "duration": 0.014505,
     "end_time": "2022-09-01T23:42:48.446331",
     "exception": false,
     "start_time": "2022-09-01T23:42:48.431826",
     "status": "completed"
    },
    "tags": []
   },
   "source": [
    "-   Compare members and casual users"
   ]
  },
  {
   "cell_type": "code",
   "execution_count": 20,
   "id": "c85abb50",
   "metadata": {
    "execution": {
     "iopub.execute_input": "2022-09-01T23:42:48.480278Z",
     "iopub.status.busy": "2022-09-01T23:42:48.478736Z",
     "iopub.status.idle": "2022-09-01T23:42:49.005136Z",
     "shell.execute_reply": "2022-09-01T23:42:49.002625Z"
    },
    "papermill": {
     "duration": 0.546458,
     "end_time": "2022-09-01T23:42:49.008163",
     "exception": false,
     "start_time": "2022-09-01T23:42:48.461705",
     "status": "completed"
    },
    "tags": []
   },
   "outputs": [
    {
     "data": {
      "text/html": [
       "<table class=\"dataframe\">\n",
       "<caption>A tibble: 2 × 5</caption>\n",
       "<thead>\n",
       "\t<tr><th scope=col>customer_type</th><th scope=col>avg_ride_lenth</th><th scope=col>median_ride_length</th><th scope=col>max_ride_length</th><th scope=col>min_ride_length</th></tr>\n",
       "\t<tr><th scope=col>&lt;chr&gt;</th><th scope=col>&lt;dbl&gt;</th><th scope=col>&lt;dbl&gt;</th><th scope=col>&lt;dbl&gt;</th><th scope=col>&lt;dbl&gt;</th></tr>\n",
       "</thead>\n",
       "<tbody>\n",
       "\t<tr><td>casual</td><td>1783.7591</td><td>945</td><td>3356649</td><td>0</td></tr>\n",
       "\t<tr><td>member</td><td> 786.9864</td><td>562</td><td>  89996</td><td>0</td></tr>\n",
       "</tbody>\n",
       "</table>\n"
      ],
      "text/latex": [
       "A tibble: 2 × 5\n",
       "\\begin{tabular}{lllll}\n",
       " customer\\_type & avg\\_ride\\_lenth & median\\_ride\\_length & max\\_ride\\_length & min\\_ride\\_length\\\\\n",
       " <chr> & <dbl> & <dbl> & <dbl> & <dbl>\\\\\n",
       "\\hline\n",
       "\t casual & 1783.7591 & 945 & 3356649 & 0\\\\\n",
       "\t member &  786.9864 & 562 &   89996 & 0\\\\\n",
       "\\end{tabular}\n"
      ],
      "text/markdown": [
       "\n",
       "A tibble: 2 × 5\n",
       "\n",
       "| customer_type &lt;chr&gt; | avg_ride_lenth &lt;dbl&gt; | median_ride_length &lt;dbl&gt; | max_ride_length &lt;dbl&gt; | min_ride_length &lt;dbl&gt; |\n",
       "|---|---|---|---|---|\n",
       "| casual | 1783.7591 | 945 | 3356649 | 0 |\n",
       "| member |  786.9864 | 562 |   89996 | 0 |\n",
       "\n"
      ],
      "text/plain": [
       "  customer_type avg_ride_lenth median_ride_length max_ride_length\n",
       "1 casual        1783.7591      945                3356649        \n",
       "2 member         786.9864      562                  89996        \n",
       "  min_ride_length\n",
       "1 0              \n",
       "2 0              "
      ]
     },
     "metadata": {},
     "output_type": "display_data"
    }
   ],
   "source": [
    "# statistical summary of ride_length by customer_type\n",
    "tripdata_nd_v2 %>% \n",
    "  group_by(customer_type) %>% \n",
    "  summarise(avg_ride_lenth = mean(ride_length), median_ride_length = median(ride_length), max_ride_length = max(ride_length), min_ride_length = min(ride_length))"
   ]
  },
  {
   "cell_type": "markdown",
   "id": "281655fd",
   "metadata": {
    "papermill": {
     "duration": 0.016295,
     "end_time": "2022-09-01T23:42:49.039194",
     "exception": false,
     "start_time": "2022-09-01T23:42:49.022899",
     "status": "completed"
    },
    "tags": []
   },
   "source": [
    "**Casual vs Members Data Distribution**\n",
    "\n",
    "- Calculating the percentage of data to members versus casuals."
   ]
  },
  {
   "cell_type": "code",
   "execution_count": 21,
   "id": "7bdf5b01",
   "metadata": {
    "execution": {
     "iopub.execute_input": "2022-09-01T23:42:49.073149Z",
     "iopub.status.busy": "2022-09-01T23:42:49.071456Z",
     "iopub.status.idle": "2022-09-01T23:42:49.552026Z",
     "shell.execute_reply": "2022-09-01T23:42:49.550193Z"
    },
    "papermill": {
     "duration": 0.499863,
     "end_time": "2022-09-01T23:42:49.554453",
     "exception": false,
     "start_time": "2022-09-01T23:42:49.054590",
     "status": "completed"
    },
    "tags": []
   },
   "outputs": [
    {
     "data": {
      "text/html": [
       "<table class=\"dataframe\">\n",
       "<caption>A tibble: 2 × 3</caption>\n",
       "<thead>\n",
       "\t<tr><th scope=col>customer_type</th><th scope=col>count</th><th scope=col>%</th></tr>\n",
       "\t<tr><th scope=col>&lt;chr&gt;</th><th scope=col>&lt;int&gt;</th><th scope=col>&lt;dbl&gt;</th></tr>\n",
       "</thead>\n",
       "<tbody>\n",
       "\t<tr><td>casual</td><td>2542832</td><td>44.46544</td></tr>\n",
       "\t<tr><td>member</td><td>3175839</td><td>55.53456</td></tr>\n",
       "</tbody>\n",
       "</table>\n"
      ],
      "text/latex": [
       "A tibble: 2 × 3\n",
       "\\begin{tabular}{lll}\n",
       " customer\\_type & count & \\%\\\\\n",
       " <chr> & <int> & <dbl>\\\\\n",
       "\\hline\n",
       "\t casual & 2542832 & 44.46544\\\\\n",
       "\t member & 3175839 & 55.53456\\\\\n",
       "\\end{tabular}\n"
      ],
      "text/markdown": [
       "\n",
       "A tibble: 2 × 3\n",
       "\n",
       "| customer_type &lt;chr&gt; | count &lt;int&gt; | % &lt;dbl&gt; |\n",
       "|---|---|---|\n",
       "| casual | 2542832 | 44.46544 |\n",
       "| member | 3175839 | 55.53456 |\n",
       "\n"
      ],
      "text/plain": [
       "  customer_type count   %       \n",
       "1 casual        2542832 44.46544\n",
       "2 member        3175839 55.53456"
      ]
     },
     "metadata": {},
     "output_type": "display_data"
    }
   ],
   "source": [
    "tripdata_nd_v2 %>% \n",
    "  group_by(customer_type) %>% \n",
    "  summarise(count = length(ride_id),\n",
    "    '%' = (length(ride_id) / nrow(tripdata_nd_v2)) * 100)"
   ]
  },
  {
   "cell_type": "markdown",
   "id": "4f743750",
   "metadata": {
    "papermill": {
     "duration": 0.015205,
     "end_time": "2022-09-01T23:42:49.585080",
     "exception": false,
     "start_time": "2022-09-01T23:42:49.569875",
     "status": "completed"
    },
    "tags": []
   },
   "source": [
    "- The average ride time by each day for members vs casual users"
   ]
  },
  {
   "cell_type": "code",
   "execution_count": 22,
   "id": "45ff9a54",
   "metadata": {
    "execution": {
     "iopub.execute_input": "2022-09-01T23:42:49.619404Z",
     "iopub.status.busy": "2022-09-01T23:42:49.617747Z",
     "iopub.status.idle": "2022-09-01T23:42:57.680569Z",
     "shell.execute_reply": "2022-09-01T23:42:57.678715Z"
    },
    "papermill": {
     "duration": 8.082577,
     "end_time": "2022-09-01T23:42:57.683245",
     "exception": false,
     "start_time": "2022-09-01T23:42:49.600668",
     "status": "completed"
    },
    "tags": []
   },
   "outputs": [
    {
     "data": {
      "text/html": [
       "<table class=\"dataframe\">\n",
       "<caption>A data.frame: 14 × 3</caption>\n",
       "<thead>\n",
       "\t<tr><th scope=col>tripdata_nd_v2$customer_type</th><th scope=col>tripdata_nd_v2$day_of_week</th><th scope=col>tripdata_nd_v2$ride_length</th></tr>\n",
       "\t<tr><th scope=col>&lt;chr&gt;</th><th scope=col>&lt;chr&gt;</th><th scope=col>&lt;dbl&gt;</th></tr>\n",
       "</thead>\n",
       "<tbody>\n",
       "\t<tr><td>casual</td><td>Friday   </td><td>1694.0952</td></tr>\n",
       "\t<tr><td>member</td><td>Friday   </td><td> 773.3964</td></tr>\n",
       "\t<tr><td>casual</td><td>Monday   </td><td>1772.9065</td></tr>\n",
       "\t<tr><td>member</td><td>Monday   </td><td> 762.7368</td></tr>\n",
       "\t<tr><td>casual</td><td>Saturday </td><td>1929.4249</td></tr>\n",
       "\t<tr><td>member</td><td>Saturday </td><td> 879.9634</td></tr>\n",
       "\t<tr><td>casual</td><td>Sunday   </td><td>2093.1459</td></tr>\n",
       "\t<tr><td>member</td><td>Sunday   </td><td> 898.6127</td></tr>\n",
       "\t<tr><td>casual</td><td>Thursday </td><td>1552.3041</td></tr>\n",
       "\t<tr><td>member</td><td>Thursday </td><td> 739.7717</td></tr>\n",
       "\t<tr><td>casual</td><td>Tuesday  </td><td>1558.6002</td></tr>\n",
       "\t<tr><td>member</td><td>Tuesday  </td><td> 738.7662</td></tr>\n",
       "\t<tr><td>casual</td><td>Wednesday</td><td>1562.3732</td></tr>\n",
       "\t<tr><td>member</td><td>Wednesday</td><td> 746.0094</td></tr>\n",
       "</tbody>\n",
       "</table>\n"
      ],
      "text/latex": [
       "A data.frame: 14 × 3\n",
       "\\begin{tabular}{lll}\n",
       " tripdata\\_nd\\_v2\\$customer\\_type & tripdata\\_nd\\_v2\\$day\\_of\\_week & tripdata\\_nd\\_v2\\$ride\\_length\\\\\n",
       " <chr> & <chr> & <dbl>\\\\\n",
       "\\hline\n",
       "\t casual & Friday    & 1694.0952\\\\\n",
       "\t member & Friday    &  773.3964\\\\\n",
       "\t casual & Monday    & 1772.9065\\\\\n",
       "\t member & Monday    &  762.7368\\\\\n",
       "\t casual & Saturday  & 1929.4249\\\\\n",
       "\t member & Saturday  &  879.9634\\\\\n",
       "\t casual & Sunday    & 2093.1459\\\\\n",
       "\t member & Sunday    &  898.6127\\\\\n",
       "\t casual & Thursday  & 1552.3041\\\\\n",
       "\t member & Thursday  &  739.7717\\\\\n",
       "\t casual & Tuesday   & 1558.6002\\\\\n",
       "\t member & Tuesday   &  738.7662\\\\\n",
       "\t casual & Wednesday & 1562.3732\\\\\n",
       "\t member & Wednesday &  746.0094\\\\\n",
       "\\end{tabular}\n"
      ],
      "text/markdown": [
       "\n",
       "A data.frame: 14 × 3\n",
       "\n",
       "| tripdata_nd_v2$customer_type &lt;chr&gt; | tripdata_nd_v2$day_of_week &lt;chr&gt; | tripdata_nd_v2$ride_length &lt;dbl&gt; |\n",
       "|---|---|---|\n",
       "| casual | Friday    | 1694.0952 |\n",
       "| member | Friday    |  773.3964 |\n",
       "| casual | Monday    | 1772.9065 |\n",
       "| member | Monday    |  762.7368 |\n",
       "| casual | Saturday  | 1929.4249 |\n",
       "| member | Saturday  |  879.9634 |\n",
       "| casual | Sunday    | 2093.1459 |\n",
       "| member | Sunday    |  898.6127 |\n",
       "| casual | Thursday  | 1552.3041 |\n",
       "| member | Thursday  |  739.7717 |\n",
       "| casual | Tuesday   | 1558.6002 |\n",
       "| member | Tuesday   |  738.7662 |\n",
       "| casual | Wednesday | 1562.3732 |\n",
       "| member | Wednesday |  746.0094 |\n",
       "\n"
      ],
      "text/plain": [
       "   tripdata_nd_v2$customer_type tripdata_nd_v2$day_of_week\n",
       "1  casual                       Friday                    \n",
       "2  member                       Friday                    \n",
       "3  casual                       Monday                    \n",
       "4  member                       Monday                    \n",
       "5  casual                       Saturday                  \n",
       "6  member                       Saturday                  \n",
       "7  casual                       Sunday                    \n",
       "8  member                       Sunday                    \n",
       "9  casual                       Thursday                  \n",
       "10 member                       Thursday                  \n",
       "11 casual                       Tuesday                   \n",
       "12 member                       Tuesday                   \n",
       "13 casual                       Wednesday                 \n",
       "14 member                       Wednesday                 \n",
       "   tripdata_nd_v2$ride_length\n",
       "1  1694.0952                 \n",
       "2   773.3964                 \n",
       "3  1772.9065                 \n",
       "4   762.7368                 \n",
       "5  1929.4249                 \n",
       "6   879.9634                 \n",
       "7  2093.1459                 \n",
       "8   898.6127                 \n",
       "9  1552.3041                 \n",
       "10  739.7717                 \n",
       "11 1558.6002                 \n",
       "12  738.7662                 \n",
       "13 1562.3732                 \n",
       "14  746.0094                 "
      ]
     },
     "metadata": {},
     "output_type": "display_data"
    }
   ],
   "source": [
    "aggregate(tripdata_nd_v2$ride_length ~ tripdata_nd_v2$customer_type + tripdata_nd_v2$day_of_week, FUN = mean)"
   ]
  },
  {
   "cell_type": "markdown",
   "id": "dd3ef18d",
   "metadata": {
    "papermill": {
     "duration": 0.015717,
     "end_time": "2022-09-01T23:42:57.714002",
     "exception": false,
     "start_time": "2022-09-01T23:42:57.698285",
     "status": "completed"
    },
    "tags": []
   },
   "source": [
    "- Notice that the days of the week are out of order. Let's fix that."
   ]
  },
  {
   "cell_type": "code",
   "execution_count": 23,
   "id": "5400b235",
   "metadata": {
    "execution": {
     "iopub.execute_input": "2022-09-01T23:42:57.748484Z",
     "iopub.status.busy": "2022-09-01T23:42:57.746730Z",
     "iopub.status.idle": "2022-09-01T23:42:57.933415Z",
     "shell.execute_reply": "2022-09-01T23:42:57.931349Z"
    },
    "papermill": {
     "duration": 0.207279,
     "end_time": "2022-09-01T23:42:57.936378",
     "exception": false,
     "start_time": "2022-09-01T23:42:57.729099",
     "status": "completed"
    },
    "tags": []
   },
   "outputs": [],
   "source": [
    "tripdata_nd_v2$day_of_week <- ordered(tripdata_nd_v2$day_of_week, levels=c(\"Sunday\", \"Monday\", \"Tuesday\", \"Wednesday\", \"Thursday\", \"Friday\", \"Saturday\"))"
   ]
  },
  {
   "cell_type": "markdown",
   "id": "52158063",
   "metadata": {
    "papermill": {
     "duration": 0.015524,
     "end_time": "2022-09-01T23:42:57.967093",
     "exception": false,
     "start_time": "2022-09-01T23:42:57.951569",
     "status": "completed"
    },
    "tags": []
   },
   "source": [
    "- Run the average ride time by each day for members vs casual users"
   ]
  },
  {
   "cell_type": "code",
   "execution_count": 24,
   "id": "b563fec3",
   "metadata": {
    "execution": {
     "iopub.execute_input": "2022-09-01T23:42:58.002513Z",
     "iopub.status.busy": "2022-09-01T23:42:58.000829Z",
     "iopub.status.idle": "2022-09-01T23:43:07.516776Z",
     "shell.execute_reply": "2022-09-01T23:43:07.514999Z"
    },
    "papermill": {
     "duration": 9.536724,
     "end_time": "2022-09-01T23:43:07.519442",
     "exception": false,
     "start_time": "2022-09-01T23:42:57.982718",
     "status": "completed"
    },
    "tags": []
   },
   "outputs": [
    {
     "data": {
      "text/html": [
       "<table class=\"dataframe\">\n",
       "<caption>A data.frame: 14 × 3</caption>\n",
       "<thead>\n",
       "\t<tr><th scope=col>tripdata_nd_v2$customer_type</th><th scope=col>tripdata_nd_v2$day_of_week</th><th scope=col>tripdata_nd_v2$ride_length</th></tr>\n",
       "\t<tr><th scope=col>&lt;chr&gt;</th><th scope=col>&lt;ord&gt;</th><th scope=col>&lt;dbl&gt;</th></tr>\n",
       "</thead>\n",
       "<tbody>\n",
       "\t<tr><td>casual</td><td>Sunday   </td><td>2093.1459</td></tr>\n",
       "\t<tr><td>member</td><td>Sunday   </td><td> 898.6127</td></tr>\n",
       "\t<tr><td>casual</td><td>Monday   </td><td>1772.9065</td></tr>\n",
       "\t<tr><td>member</td><td>Monday   </td><td> 762.7368</td></tr>\n",
       "\t<tr><td>casual</td><td>Tuesday  </td><td>1558.6002</td></tr>\n",
       "\t<tr><td>member</td><td>Tuesday  </td><td> 738.7662</td></tr>\n",
       "\t<tr><td>casual</td><td>Wednesday</td><td>1562.3732</td></tr>\n",
       "\t<tr><td>member</td><td>Wednesday</td><td> 746.0094</td></tr>\n",
       "\t<tr><td>casual</td><td>Thursday </td><td>1552.3041</td></tr>\n",
       "\t<tr><td>member</td><td>Thursday </td><td> 739.7717</td></tr>\n",
       "\t<tr><td>casual</td><td>Friday   </td><td>1694.0952</td></tr>\n",
       "\t<tr><td>member</td><td>Friday   </td><td> 773.3964</td></tr>\n",
       "\t<tr><td>casual</td><td>Saturday </td><td>1929.4249</td></tr>\n",
       "\t<tr><td>member</td><td>Saturday </td><td> 879.9634</td></tr>\n",
       "</tbody>\n",
       "</table>\n"
      ],
      "text/latex": [
       "A data.frame: 14 × 3\n",
       "\\begin{tabular}{lll}\n",
       " tripdata\\_nd\\_v2\\$customer\\_type & tripdata\\_nd\\_v2\\$day\\_of\\_week & tripdata\\_nd\\_v2\\$ride\\_length\\\\\n",
       " <chr> & <ord> & <dbl>\\\\\n",
       "\\hline\n",
       "\t casual & Sunday    & 2093.1459\\\\\n",
       "\t member & Sunday    &  898.6127\\\\\n",
       "\t casual & Monday    & 1772.9065\\\\\n",
       "\t member & Monday    &  762.7368\\\\\n",
       "\t casual & Tuesday   & 1558.6002\\\\\n",
       "\t member & Tuesday   &  738.7662\\\\\n",
       "\t casual & Wednesday & 1562.3732\\\\\n",
       "\t member & Wednesday &  746.0094\\\\\n",
       "\t casual & Thursday  & 1552.3041\\\\\n",
       "\t member & Thursday  &  739.7717\\\\\n",
       "\t casual & Friday    & 1694.0952\\\\\n",
       "\t member & Friday    &  773.3964\\\\\n",
       "\t casual & Saturday  & 1929.4249\\\\\n",
       "\t member & Saturday  &  879.9634\\\\\n",
       "\\end{tabular}\n"
      ],
      "text/markdown": [
       "\n",
       "A data.frame: 14 × 3\n",
       "\n",
       "| tripdata_nd_v2$customer_type &lt;chr&gt; | tripdata_nd_v2$day_of_week &lt;ord&gt; | tripdata_nd_v2$ride_length &lt;dbl&gt; |\n",
       "|---|---|---|\n",
       "| casual | Sunday    | 2093.1459 |\n",
       "| member | Sunday    |  898.6127 |\n",
       "| casual | Monday    | 1772.9065 |\n",
       "| member | Monday    |  762.7368 |\n",
       "| casual | Tuesday   | 1558.6002 |\n",
       "| member | Tuesday   |  738.7662 |\n",
       "| casual | Wednesday | 1562.3732 |\n",
       "| member | Wednesday |  746.0094 |\n",
       "| casual | Thursday  | 1552.3041 |\n",
       "| member | Thursday  |  739.7717 |\n",
       "| casual | Friday    | 1694.0952 |\n",
       "| member | Friday    |  773.3964 |\n",
       "| casual | Saturday  | 1929.4249 |\n",
       "| member | Saturday  |  879.9634 |\n",
       "\n"
      ],
      "text/plain": [
       "   tripdata_nd_v2$customer_type tripdata_nd_v2$day_of_week\n",
       "1  casual                       Sunday                    \n",
       "2  member                       Sunday                    \n",
       "3  casual                       Monday                    \n",
       "4  member                       Monday                    \n",
       "5  casual                       Tuesday                   \n",
       "6  member                       Tuesday                   \n",
       "7  casual                       Wednesday                 \n",
       "8  member                       Wednesday                 \n",
       "9  casual                       Thursday                  \n",
       "10 member                       Thursday                  \n",
       "11 casual                       Friday                    \n",
       "12 member                       Friday                    \n",
       "13 casual                       Saturday                  \n",
       "14 member                       Saturday                  \n",
       "   tripdata_nd_v2$ride_length\n",
       "1  2093.1459                 \n",
       "2   898.6127                 \n",
       "3  1772.9065                 \n",
       "4   762.7368                 \n",
       "5  1558.6002                 \n",
       "6   738.7662                 \n",
       "7  1562.3732                 \n",
       "8   746.0094                 \n",
       "9  1552.3041                 \n",
       "10  739.7717                 \n",
       "11 1694.0952                 \n",
       "12  773.3964                 \n",
       "13 1929.4249                 \n",
       "14  879.9634                 "
      ]
     },
     "metadata": {},
     "output_type": "display_data"
    }
   ],
   "source": [
    "aggregate(tripdata_nd_v2$ride_length ~ tripdata_nd_v2$customer_type + tripdata_nd_v2$day_of_week, FUN = mean)"
   ]
  },
  {
   "cell_type": "markdown",
   "id": "c9e4573a",
   "metadata": {
    "papermill": {
     "duration": 0.015498,
     "end_time": "2022-09-01T23:43:07.551248",
     "exception": false,
     "start_time": "2022-09-01T23:43:07.535750",
     "status": "completed"
    },
    "tags": []
   },
   "source": [
    "- Analyze ridership data by type and weekday"
   ]
  },
  {
   "cell_type": "code",
   "execution_count": 25,
   "id": "4b6209fc",
   "metadata": {
    "execution": {
     "iopub.execute_input": "2022-09-01T23:43:07.586277Z",
     "iopub.status.busy": "2022-09-01T23:43:07.584528Z",
     "iopub.status.idle": "2022-09-01T23:43:14.892370Z",
     "shell.execute_reply": "2022-09-01T23:43:14.890574Z"
    },
    "papermill": {
     "duration": 7.327604,
     "end_time": "2022-09-01T23:43:14.894738",
     "exception": false,
     "start_time": "2022-09-01T23:43:07.567134",
     "status": "completed"
    },
    "tags": []
   },
   "outputs": [
    {
     "name": "stderr",
     "output_type": "stream",
     "text": [
      "\u001b[1m\u001b[22m`summarise()` has grouped output by 'customer_type'. You can override using the\n",
      "`.groups` argument.\n"
     ]
    },
    {
     "data": {
      "text/html": [
       "<table class=\"dataframe\">\n",
       "<caption>A grouped_df: 14 × 4</caption>\n",
       "<thead>\n",
       "\t<tr><th scope=col>customer_type</th><th scope=col>weekday</th><th scope=col>number_of_rides</th><th scope=col>average_duration</th></tr>\n",
       "\t<tr><th scope=col>&lt;chr&gt;</th><th scope=col>&lt;ord&gt;</th><th scope=col>&lt;int&gt;</th><th scope=col>&lt;dbl&gt;</th></tr>\n",
       "</thead>\n",
       "<tbody>\n",
       "\t<tr><td>casual</td><td>Sun</td><td>482031</td><td>2093.1459</td></tr>\n",
       "\t<tr><td>casual</td><td>Mon</td><td>292570</td><td>1772.9065</td></tr>\n",
       "\t<tr><td>casual</td><td>Tue</td><td>276024</td><td>1558.6002</td></tr>\n",
       "\t<tr><td>casual</td><td>Wed</td><td>286047</td><td>1562.3732</td></tr>\n",
       "\t<tr><td>casual</td><td>Thu</td><td>293206</td><td>1552.3041</td></tr>\n",
       "\t<tr><td>casual</td><td>Fri</td><td>363766</td><td>1694.0952</td></tr>\n",
       "\t<tr><td>casual</td><td>Sat</td><td>549188</td><td>1929.4249</td></tr>\n",
       "\t<tr><td>member</td><td>Sun</td><td>387553</td><td> 898.6127</td></tr>\n",
       "\t<tr><td>member</td><td>Mon</td><td>439294</td><td> 762.7368</td></tr>\n",
       "\t<tr><td>member</td><td>Tue</td><td>489950</td><td> 738.7662</td></tr>\n",
       "\t<tr><td>member</td><td>Wed</td><td>499777</td><td> 746.0094</td></tr>\n",
       "\t<tr><td>member</td><td>Thu</td><td>475179</td><td> 739.7717</td></tr>\n",
       "\t<tr><td>member</td><td>Fri</td><td>452935</td><td> 773.3964</td></tr>\n",
       "\t<tr><td>member</td><td>Sat</td><td>431151</td><td> 879.9634</td></tr>\n",
       "</tbody>\n",
       "</table>\n"
      ],
      "text/latex": [
       "A grouped\\_df: 14 × 4\n",
       "\\begin{tabular}{llll}\n",
       " customer\\_type & weekday & number\\_of\\_rides & average\\_duration\\\\\n",
       " <chr> & <ord> & <int> & <dbl>\\\\\n",
       "\\hline\n",
       "\t casual & Sun & 482031 & 2093.1459\\\\\n",
       "\t casual & Mon & 292570 & 1772.9065\\\\\n",
       "\t casual & Tue & 276024 & 1558.6002\\\\\n",
       "\t casual & Wed & 286047 & 1562.3732\\\\\n",
       "\t casual & Thu & 293206 & 1552.3041\\\\\n",
       "\t casual & Fri & 363766 & 1694.0952\\\\\n",
       "\t casual & Sat & 549188 & 1929.4249\\\\\n",
       "\t member & Sun & 387553 &  898.6127\\\\\n",
       "\t member & Mon & 439294 &  762.7368\\\\\n",
       "\t member & Tue & 489950 &  738.7662\\\\\n",
       "\t member & Wed & 499777 &  746.0094\\\\\n",
       "\t member & Thu & 475179 &  739.7717\\\\\n",
       "\t member & Fri & 452935 &  773.3964\\\\\n",
       "\t member & Sat & 431151 &  879.9634\\\\\n",
       "\\end{tabular}\n"
      ],
      "text/markdown": [
       "\n",
       "A grouped_df: 14 × 4\n",
       "\n",
       "| customer_type &lt;chr&gt; | weekday &lt;ord&gt; | number_of_rides &lt;int&gt; | average_duration &lt;dbl&gt; |\n",
       "|---|---|---|---|\n",
       "| casual | Sun | 482031 | 2093.1459 |\n",
       "| casual | Mon | 292570 | 1772.9065 |\n",
       "| casual | Tue | 276024 | 1558.6002 |\n",
       "| casual | Wed | 286047 | 1562.3732 |\n",
       "| casual | Thu | 293206 | 1552.3041 |\n",
       "| casual | Fri | 363766 | 1694.0952 |\n",
       "| casual | Sat | 549188 | 1929.4249 |\n",
       "| member | Sun | 387553 |  898.6127 |\n",
       "| member | Mon | 439294 |  762.7368 |\n",
       "| member | Tue | 489950 |  738.7662 |\n",
       "| member | Wed | 499777 |  746.0094 |\n",
       "| member | Thu | 475179 |  739.7717 |\n",
       "| member | Fri | 452935 |  773.3964 |\n",
       "| member | Sat | 431151 |  879.9634 |\n",
       "\n"
      ],
      "text/plain": [
       "   customer_type weekday number_of_rides average_duration\n",
       "1  casual        Sun     482031          2093.1459       \n",
       "2  casual        Mon     292570          1772.9065       \n",
       "3  casual        Tue     276024          1558.6002       \n",
       "4  casual        Wed     286047          1562.3732       \n",
       "5  casual        Thu     293206          1552.3041       \n",
       "6  casual        Fri     363766          1694.0952       \n",
       "7  casual        Sat     549188          1929.4249       \n",
       "8  member        Sun     387553           898.6127       \n",
       "9  member        Mon     439294           762.7368       \n",
       "10 member        Tue     489950           738.7662       \n",
       "11 member        Wed     499777           746.0094       \n",
       "12 member        Thu     475179           739.7717       \n",
       "13 member        Fri     452935           773.3964       \n",
       "14 member        Sat     431151           879.9634       "
      ]
     },
     "metadata": {},
     "output_type": "display_data"
    }
   ],
   "source": [
    "# Uses wday() to create the weekday field, then group by customer type and weekday. Calculates the number of rides and the average duration. Calculates the average time and sort.\n",
    "tripdata_nd_v2 %>% \n",
    "  mutate(weekday = wday(started_at, label = TRUE)) %>% group_by(customer_type, weekday) %>% \n",
    "  summarise(number_of_rides = n(), average_duration = mean(ride_length)) %>% \n",
    "  arrange(customer_type, weekday)"
   ]
  },
  {
   "cell_type": "markdown",
   "id": "233d607d",
   "metadata": {
    "papermill": {
     "duration": 0.016166,
     "end_time": "2022-09-01T23:43:14.926588",
     "exception": false,
     "start_time": "2022-09-01T23:43:14.910422",
     "status": "completed"
    },
    "tags": []
   },
   "source": []
  },
  {
   "cell_type": "markdown",
   "id": "eb8a1bf5",
   "metadata": {
    "papermill": {
     "duration": 0.016565,
     "end_time": "2022-09-01T23:43:14.958651",
     "exception": false,
     "start_time": "2022-09-01T23:43:14.942086",
     "status": "completed"
    },
    "tags": []
   },
   "source": [
    "- Analyse ridership data distribution by month"
   ]
  },
  {
   "cell_type": "code",
   "execution_count": 26,
   "id": "7cff704e",
   "metadata": {
    "execution": {
     "iopub.execute_input": "2022-09-01T23:43:14.993312Z",
     "iopub.status.busy": "2022-09-01T23:43:14.991634Z",
     "iopub.status.idle": "2022-09-01T23:43:15.505854Z",
     "shell.execute_reply": "2022-09-01T23:43:15.503938Z"
    },
    "papermill": {
     "duration": 0.534235,
     "end_time": "2022-09-01T23:43:15.508349",
     "exception": false,
     "start_time": "2022-09-01T23:43:14.974114",
     "status": "completed"
    },
    "tags": []
   },
   "outputs": [
    {
     "data": {
      "text/html": [
       "<table class=\"dataframe\">\n",
       "<caption>A tibble: 12 × 6</caption>\n",
       "<thead>\n",
       "\t<tr><th scope=col>month</th><th scope=col>count</th><th scope=col>%</th><th scope=col>members_p</th><th scope=col>casual_p</th><th scope=col>Member x Casual Perc Difer</th></tr>\n",
       "\t<tr><th scope=col>&lt;chr&gt;</th><th scope=col>&lt;int&gt;</th><th scope=col>&lt;dbl&gt;</th><th scope=col>&lt;dbl&gt;</th><th scope=col>&lt;dbl&gt;</th><th scope=col>&lt;dbl&gt;</th></tr>\n",
       "</thead>\n",
       "<tbody>\n",
       "\t<tr><td>01</td><td>103684</td><td> 1.813079</td><td>82.19301</td><td>17.80699</td><td>64.386019</td></tr>\n",
       "\t<tr><td>02</td><td>115532</td><td> 2.020260</td><td>81.51075</td><td>18.48925</td><td>63.021501</td></tr>\n",
       "\t<tr><td>03</td><td>283774</td><td> 4.962237</td><td>68.41078</td><td>31.58922</td><td>36.821555</td></tr>\n",
       "\t<tr><td>04</td><td>336958</td><td> 5.892243</td><td>59.51602</td><td>40.48398</td><td>19.032046</td></tr>\n",
       "\t<tr><td>05</td><td>531179</td><td> 9.288504</td><td>51.69670</td><td>48.30330</td><td> 3.393395</td></tr>\n",
       "\t<tr><td>06</td><td>728873</td><td>12.745496</td><td>49.21571</td><td>50.78429</td><td>-1.568586</td></tr>\n",
       "\t<tr><td>07</td><td>821666</td><td>14.368129</td><td>46.27196</td><td>53.72804</td><td>-7.456071</td></tr>\n",
       "\t<tr><td>08</td><td>803617</td><td>14.052513</td><td>48.71923</td><td>51.28077</td><td>-2.561544</td></tr>\n",
       "\t<tr><td>09</td><td>755516</td><td>13.211391</td><td>51.89248</td><td>48.10752</td><td> 3.784963</td></tr>\n",
       "\t<tr><td>10</td><td>630742</td><td>11.029521</td><td>59.28193</td><td>40.71807</td><td>18.563850</td></tr>\n",
       "\t<tr><td>11</td><td>359734</td><td> 6.290517</td><td>70.32391</td><td>29.67609</td><td>40.647812</td></tr>\n",
       "\t<tr><td>12</td><td>247396</td><td> 4.326110</td><td>71.86090</td><td>28.13910</td><td>43.721806</td></tr>\n",
       "</tbody>\n",
       "</table>\n"
      ],
      "text/latex": [
       "A tibble: 12 × 6\n",
       "\\begin{tabular}{llllll}\n",
       " month & count & \\% & members\\_p & casual\\_p & Member x Casual Perc Difer\\\\\n",
       " <chr> & <int> & <dbl> & <dbl> & <dbl> & <dbl>\\\\\n",
       "\\hline\n",
       "\t 01 & 103684 &  1.813079 & 82.19301 & 17.80699 & 64.386019\\\\\n",
       "\t 02 & 115532 &  2.020260 & 81.51075 & 18.48925 & 63.021501\\\\\n",
       "\t 03 & 283774 &  4.962237 & 68.41078 & 31.58922 & 36.821555\\\\\n",
       "\t 04 & 336958 &  5.892243 & 59.51602 & 40.48398 & 19.032046\\\\\n",
       "\t 05 & 531179 &  9.288504 & 51.69670 & 48.30330 &  3.393395\\\\\n",
       "\t 06 & 728873 & 12.745496 & 49.21571 & 50.78429 & -1.568586\\\\\n",
       "\t 07 & 821666 & 14.368129 & 46.27196 & 53.72804 & -7.456071\\\\\n",
       "\t 08 & 803617 & 14.052513 & 48.71923 & 51.28077 & -2.561544\\\\\n",
       "\t 09 & 755516 & 13.211391 & 51.89248 & 48.10752 &  3.784963\\\\\n",
       "\t 10 & 630742 & 11.029521 & 59.28193 & 40.71807 & 18.563850\\\\\n",
       "\t 11 & 359734 &  6.290517 & 70.32391 & 29.67609 & 40.647812\\\\\n",
       "\t 12 & 247396 &  4.326110 & 71.86090 & 28.13910 & 43.721806\\\\\n",
       "\\end{tabular}\n"
      ],
      "text/markdown": [
       "\n",
       "A tibble: 12 × 6\n",
       "\n",
       "| month &lt;chr&gt; | count &lt;int&gt; | % &lt;dbl&gt; | members_p &lt;dbl&gt; | casual_p &lt;dbl&gt; | Member x Casual Perc Difer &lt;dbl&gt; |\n",
       "|---|---|---|---|---|---|\n",
       "| 01 | 103684 |  1.813079 | 82.19301 | 17.80699 | 64.386019 |\n",
       "| 02 | 115532 |  2.020260 | 81.51075 | 18.48925 | 63.021501 |\n",
       "| 03 | 283774 |  4.962237 | 68.41078 | 31.58922 | 36.821555 |\n",
       "| 04 | 336958 |  5.892243 | 59.51602 | 40.48398 | 19.032046 |\n",
       "| 05 | 531179 |  9.288504 | 51.69670 | 48.30330 |  3.393395 |\n",
       "| 06 | 728873 | 12.745496 | 49.21571 | 50.78429 | -1.568586 |\n",
       "| 07 | 821666 | 14.368129 | 46.27196 | 53.72804 | -7.456071 |\n",
       "| 08 | 803617 | 14.052513 | 48.71923 | 51.28077 | -2.561544 |\n",
       "| 09 | 755516 | 13.211391 | 51.89248 | 48.10752 |  3.784963 |\n",
       "| 10 | 630742 | 11.029521 | 59.28193 | 40.71807 | 18.563850 |\n",
       "| 11 | 359734 |  6.290517 | 70.32391 | 29.67609 | 40.647812 |\n",
       "| 12 | 247396 |  4.326110 | 71.86090 | 28.13910 | 43.721806 |\n",
       "\n"
      ],
      "text/plain": [
       "   month count  %         members_p casual_p Member x Casual Perc Difer\n",
       "1  01    103684  1.813079 82.19301  17.80699 64.386019                 \n",
       "2  02    115532  2.020260 81.51075  18.48925 63.021501                 \n",
       "3  03    283774  4.962237 68.41078  31.58922 36.821555                 \n",
       "4  04    336958  5.892243 59.51602  40.48398 19.032046                 \n",
       "5  05    531179  9.288504 51.69670  48.30330  3.393395                 \n",
       "6  06    728873 12.745496 49.21571  50.78429 -1.568586                 \n",
       "7  07    821666 14.368129 46.27196  53.72804 -7.456071                 \n",
       "8  08    803617 14.052513 48.71923  51.28077 -2.561544                 \n",
       "9  09    755516 13.211391 51.89248  48.10752  3.784963                 \n",
       "10 10    630742 11.029521 59.28193  40.71807 18.563850                 \n",
       "11 11    359734  6.290517 70.32391  29.67609 40.647812                 \n",
       "12 12    247396  4.326110 71.86090  28.13910 43.721806                 "
      ]
     },
     "metadata": {},
     "output_type": "display_data"
    }
   ],
   "source": [
    "tripdata_nd_v2 %>%\n",
    "    group_by(month) %>%\n",
    "    summarise(count = length(ride_id),\n",
    "              '%' = (length(ride_id) / nrow(tripdata_nd_v2)) * 100,\n",
    "              'members_p' = (sum(customer_type == \"member\") / length(ride_id)) * 100,\n",
    "              'casual_p' = (sum(customer_type == \"casual\") / length(ride_id)) * 100,\n",
    "              'Member x Casual Perc Difer' = members_p - casual_p)"
   ]
  },
  {
   "cell_type": "markdown",
   "id": "0183826b",
   "metadata": {
    "papermill": {
     "duration": 0.016109,
     "end_time": "2022-09-01T23:43:15.540433",
     "exception": false,
     "start_time": "2022-09-01T23:43:15.524324",
     "status": "completed"
    },
    "tags": []
   },
   "source": [
    "# Visualize Data\n",
    "-  Visualize the distribution of data by customer_type"
   ]
  },
  {
   "cell_type": "code",
   "execution_count": 27,
   "id": "c5df5a6f",
   "metadata": {
    "execution": {
     "iopub.execute_input": "2022-09-01T23:43:15.576213Z",
     "iopub.status.busy": "2022-09-01T23:43:15.574438Z",
     "iopub.status.idle": "2022-09-01T23:43:20.447780Z",
     "shell.execute_reply": "2022-09-01T23:43:20.445898Z"
    },
    "papermill": {
     "duration": 4.894105,
     "end_time": "2022-09-01T23:43:20.450479",
     "exception": false,
     "start_time": "2022-09-01T23:43:15.556374",
     "status": "completed"
    },
    "tags": []
   },
   "outputs": [
    {
     "data": {
      "image/png": "[encoded data removed]"
     },
     "metadata": {
      "image/png": {
       "height": 420,
       "width": 420
      }
     },
     "output_type": "display_data"
    }
   ],
   "source": [
    "ggplot(tripdata_nd_v2, aes(customer_type, fill = customer_type)) +\n",
    "    geom_bar() + \n",
    "labs(x = \"Casuals x Members\", title = \"Casuals x Members distribution\") +\n",
    "theme(axis.text.x = element_text(hjust = 1)) +\n",
    "scale_fill_manual(values = c(\"#F0C929\", \"#16697A\"))"
   ]
  },
  {
   "cell_type": "markdown",
   "id": "029c4f17",
   "metadata": {
    "papermill": {
     "duration": 0.017453,
     "end_time": "2022-09-01T23:43:20.484899",
     "exception": false,
     "start_time": "2022-09-01T23:43:20.467446",
     "status": "completed"
    },
    "tags": []
   },
   "source": [
    "The chart above visualize the percentage differences in customer_type. The dataset contains more members than casuals with a proportional percentage of approximately 55.5% : 44.5%"
   ]
  },
  {
   "cell_type": "markdown",
   "id": "60f6f2b1",
   "metadata": {
    "papermill": {
     "duration": 0.016666,
     "end_time": "2022-09-01T23:43:20.518058",
     "exception": false,
     "start_time": "2022-09-01T23:43:20.501392",
     "status": "completed"
    },
    "tags": []
   },
   "source": [
    "-  Visualize the number of rides by rider_type\n"
   ]
  },
  {
   "cell_type": "code",
   "execution_count": 28,
   "id": "f4ba12af",
   "metadata": {
    "execution": {
     "iopub.execute_input": "2022-09-01T23:43:20.555060Z",
     "iopub.status.busy": "2022-09-01T23:43:20.553309Z",
     "iopub.status.idle": "2022-09-01T23:43:28.027137Z",
     "shell.execute_reply": "2022-09-01T23:43:28.025317Z"
    },
    "papermill": {
     "duration": 7.495587,
     "end_time": "2022-09-01T23:43:28.029976",
     "exception": false,
     "start_time": "2022-09-01T23:43:20.534389",
     "status": "completed"
    },
    "tags": []
   },
   "outputs": [
    {
     "name": "stderr",
     "output_type": "stream",
     "text": [
      "\u001b[1m\u001b[22m`summarise()` has grouped output by 'customer_type'. You can override using the\n",
      "`.groups` argument.\n",
      "Warning message:\n",
      "“Ignoring unknown parameters: vjust”\n"
     ]
    },
    {
     "data": {
      "image/png": "[encoded data removed]"
     },
     "metadata": {
      "image/png": {
       "height": 420,
       "width": 420
      }
     },
     "output_type": "display_data"
    }
   ],
   "source": [
    "tripdata_nd_v2 %>% \n",
    "  mutate(weekday = wday(started_at, label = TRUE)) %>% \n",
    "  group_by(customer_type, weekday) %>% \n",
    "  summarise(number_of_rides = n()\n",
    "            ,average_duration = mean(ride_length)) %>% \n",
    "  arrange(customer_type, weekday)  %>% \n",
    "  ggplot(aes(x = weekday, y = number_of_rides, fill = customer_type))+\n",
    "labs(title = \"Casual x Member riders weekday distribution\")+\n",
    "theme(axis.text.x = element_text(hjust = 1))+\n",
    "  geom_col(vjust = 4.0, position = \"dodge\") +\n",
    "scale_fill_manual(values = c(\"#F0C929\", \"#16697A\"))"
   ]
  },
  {
   "cell_type": "markdown",
   "id": "af672d5f",
   "metadata": {
    "papermill": {
     "duration": 0.017069,
     "end_time": "2022-09-01T23:43:28.064198",
     "exception": false,
     "start_time": "2022-09-01T23:43:28.047129",
     "status": "completed"
    },
    "tags": []
   },
   "source": [
    "- Visualize number of rides by month"
   ]
  },
  {
   "cell_type": "code",
   "execution_count": 29,
   "id": "6582fe50",
   "metadata": {
    "execution": {
     "iopub.execute_input": "2022-09-01T23:43:28.102477Z",
     "iopub.status.busy": "2022-09-01T23:43:28.100868Z",
     "iopub.status.idle": "2022-09-01T23:43:28.689311Z",
     "shell.execute_reply": "2022-09-01T23:43:28.687412Z"
    },
    "papermill": {
     "duration": 0.60978,
     "end_time": "2022-09-01T23:43:28.691719",
     "exception": false,
     "start_time": "2022-09-01T23:43:28.081939",
     "status": "completed"
    },
    "tags": []
   },
   "outputs": [
    {
     "name": "stderr",
     "output_type": "stream",
     "text": [
      "\u001b[1m\u001b[22m`summarise()` has grouped output by 'customer_type'. You can override using the\n",
      "`.groups` argument.\n"
     ]
    },
    {
     "data": {
      "image/png": "[encoded data removed]"
     },
     "metadata": {
      "image/png": {
       "height": 420,
       "width": 420
      }
     },
     "output_type": "display_data"
    }
   ],
   "source": [
    "tripdata_nd_v2 %>% \n",
    "  group_by(customer_type, month) %>% \n",
    "  summarise(number_of_rides = n(), average_duration = mean(ride_length)) %>% \n",
    "  arrange(customer_type, month) %>% \n",
    "  ggplot(aes(x = month, y = number_of_rides, fill = customer_type)) +\n",
    "  geom_col(position = \"dodge\") + \n",
    "labs(title = \"Casual x Member riders month distribution\", x = \"Month\", y = \"Number of Rides\") + \n",
    "theme(axis.text.x = element_text(angle = 60, hjust = 1)) + \n",
    "scale_fill_manual(values = c(\"#F0C929\", \"#16697A\"))"
   ]
  },
  {
   "cell_type": "markdown",
   "id": "6aa7b880",
   "metadata": {
    "papermill": {
     "duration": 0.018269,
     "end_time": "2022-09-01T23:43:28.728344",
     "exception": false,
     "start_time": "2022-09-01T23:43:28.710075",
     "status": "completed"
    },
    "tags": []
   },
   "source": [
    "- Visualize the average ride length by customer type"
   ]
  },
  {
   "cell_type": "code",
   "execution_count": 30,
   "id": "ea59a553",
   "metadata": {
    "execution": {
     "iopub.execute_input": "2022-09-01T23:43:28.767971Z",
     "iopub.status.busy": "2022-09-01T23:43:28.766355Z",
     "iopub.status.idle": "2022-09-01T23:43:34.941209Z",
     "shell.execute_reply": "2022-09-01T23:43:34.939271Z"
    },
    "papermill": {
     "duration": 6.197637,
     "end_time": "2022-09-01T23:43:34.943931",
     "exception": false,
     "start_time": "2022-09-01T23:43:28.746294",
     "status": "completed"
    },
    "tags": []
   },
   "outputs": [
    {
     "name": "stderr",
     "output_type": "stream",
     "text": [
      "\u001b[1m\u001b[22m`summarise()` has grouped output by 'customer_type'. You can override using the\n",
      "`.groups` argument.\n"
     ]
    },
    {
     "data": {
      "image/png": "[encoded data removed]"
     },
     "metadata": {
      "image/png": {
       "height": 420,
       "width": 420
      }
     },
     "output_type": "display_data"
    }
   ],
   "source": [
    "tripdata_nd_v2 %>% \n",
    "  mutate(weekday = wday(started_at, label = TRUE)) %>% \n",
    "  group_by(customer_type, weekday) %>% \n",
    "  summarise(number_of_rides = n()\n",
    "            ,average_duration = mean(ride_length)) %>% \n",
    "  arrange(customer_type, weekday)  %>% \n",
    "  ggplot(aes(x = weekday, y = average_duration, fill = customer_type)) +\n",
    "labs(title = \"Casual x Member riders average ride_length distribution\") +\n",
    "theme(axis.text.x = element_text(angle = 60, hjust = 1)) +\n",
    "  geom_col(position = \"dodge\") +\n",
    "scale_fill_manual(values = c(\"#F0C929\", \"#16697A\"))"
   ]
  },
  {
   "cell_type": "markdown",
   "id": "445462c9",
   "metadata": {
    "papermill": {
     "duration": 0.019918,
     "end_time": "2022-09-01T23:43:34.982636",
     "exception": false,
     "start_time": "2022-09-01T23:43:34.962718",
     "status": "completed"
    },
    "tags": []
   },
   "source": [
    "The output shows the average duration of casual riders are higher than the member riders."
   ]
  },
  {
   "cell_type": "markdown",
   "id": "53abad63",
   "metadata": {
    "papermill": {
     "duration": 0.020462,
     "end_time": "2022-09-01T23:43:35.023007",
     "exception": false,
     "start_time": "2022-09-01T23:43:35.002545",
     "status": "completed"
    },
    "tags": []
   },
   "source": [
    "- Visualize the ride_type by day"
   ]
  },
  {
   "cell_type": "code",
   "execution_count": 31,
   "id": "2c932c64",
   "metadata": {
    "execution": {
     "iopub.execute_input": "2022-09-01T23:43:35.066469Z",
     "iopub.status.busy": "2022-09-01T23:43:35.064760Z",
     "iopub.status.idle": "2022-09-01T23:43:35.807620Z",
     "shell.execute_reply": "2022-09-01T23:43:35.805767Z"
    },
    "papermill": {
     "duration": 0.767298,
     "end_time": "2022-09-01T23:43:35.810086",
     "exception": false,
     "start_time": "2022-09-01T23:43:35.042788",
     "status": "completed"
    },
    "tags": []
   },
   "outputs": [
    {
     "name": "stderr",
     "output_type": "stream",
     "text": [
      "\u001b[1m\u001b[22m`summarise()` has grouped output by 'ride_type'. You can override using the\n",
      "`.groups` argument.\n"
     ]
    },
    {
     "data": {
      "text/plain": [
       "<ggproto object: Class CoordFlip, CoordCartesian, Coord, gg>\n",
       "    aspect: function\n",
       "    backtransform_range: function\n",
       "    clip: on\n",
       "    default: FALSE\n",
       "    distance: function\n",
       "    expand: TRUE\n",
       "    is_free: function\n",
       "    is_linear: function\n",
       "    labels: function\n",
       "    limits: list\n",
       "    modify_scales: function\n",
       "    range: function\n",
       "    render_axis_h: function\n",
       "    render_axis_v: function\n",
       "    render_bg: function\n",
       "    render_fg: function\n",
       "    setup_data: function\n",
       "    setup_layout: function\n",
       "    setup_panel_guides: function\n",
       "    setup_panel_params: function\n",
       "    setup_params: function\n",
       "    train_panel_guides: function\n",
       "    transform: function\n",
       "    super:  <ggproto object: Class CoordFlip, CoordCartesian, Coord, gg>"
      ]
     },
     "metadata": {},
     "output_type": "display_data"
    },
    {
     "data": {
      "image/png": "[encoded data removed]"
     },
     "metadata": {
      "image/png": {
       "height": 420,
       "width": 420
      }
     },
     "output_type": "display_data"
    }
   ],
   "source": [
    "tripdata_nd_v2 %>% \n",
    "  group_by(ride_type, day_of_week) %>% \n",
    "  summarise(number_of_rides = n(), average_duration = mean(ride_length)) %>% \n",
    "  arrange(ride_type, day_of_week)%>% \n",
    "  ggplot(aes(x = day_of_week, y = number_of_rides, fill = ride_type)) +\n",
    "  geom_col(position = \"dodge\") + \n",
    "labs(title = \"Total Number of ride_type by Day\", \n",
    "     x = \"Week Day\", \n",
    "     y = \"Number of Member Rides\") + theme(axis.text.x = element_text(angle = 60, hjust = 1)) +\n",
    "scale_fill_manual(values = c(\"#F0C929\", \"#16697A\", \"616F39\"))\n",
    "coord_flip()"
   ]
  },
  {
   "cell_type": "markdown",
   "id": "e69ce06e",
   "metadata": {
    "papermill": {
     "duration": 0.019927,
     "end_time": "2022-09-01T23:43:35.850222",
     "exception": false,
     "start_time": "2022-09-01T23:43:35.830295",
     "status": "completed"
    },
    "tags": []
   },
   "source": [
    "According to the chart above, docked_bike is the least used of the three bikes by riders during weekdays. classic_bike being the most popularly used, followed by electric_bike."
   ]
  },
  {
   "cell_type": "markdown",
   "id": "09d8051f",
   "metadata": {
    "papermill": {
     "duration": 0.02,
     "end_time": "2022-09-01T23:43:35.890329",
     "exception": false,
     "start_time": "2022-09-01T23:43:35.870329",
     "status": "completed"
    },
    "tags": []
   },
   "source": [
    "- Visualize the ride_type by month"
   ]
  },
  {
   "cell_type": "code",
   "execution_count": 32,
   "id": "f68e4525",
   "metadata": {
    "execution": {
     "iopub.execute_input": "2022-09-01T23:43:35.933330Z",
     "iopub.status.busy": "2022-09-01T23:43:35.931721Z",
     "iopub.status.idle": "2022-09-01T23:43:37.730399Z",
     "shell.execute_reply": "2022-09-01T23:43:37.728523Z"
    },
    "papermill": {
     "duration": 1.823937,
     "end_time": "2022-09-01T23:43:37.733869",
     "exception": false,
     "start_time": "2022-09-01T23:43:35.909932",
     "status": "completed"
    },
    "tags": []
   },
   "outputs": [
    {
     "name": "stderr",
     "output_type": "stream",
     "text": [
      "\u001b[1m\u001b[22m`summarise()` has grouped output by 'ride_type'. You can override using the\n",
      "`.groups` argument.\n"
     ]
    },
    {
     "data": {
      "image/png": "[encoded data removed]"
     },
     "metadata": {
      "image/png": {
       "height": 420,
       "width": 420
      }
     },
     "output_type": "display_data"
    }
   ],
   "source": [
    "tripdata_nd_v2 %>% \n",
    "  group_by(ride_type, month) %>% \n",
    "  summarise(number_of_rides = n(), average_duration = mean(ride_length)) %>% \n",
    "  arrange(ride_type, month)\t%>% \n",
    "  ggplot(aes(x = month, y = number_of_rides, fill = ride_type)) +\n",
    "  geom_col(position = \"dodge\") + \n",
    "labs(title = \"Total Number of Member Rides by Month\", \n",
    "     x = \"Month\", \n",
    "     y = \"Number of Member Rides\") + \n",
    "theme(axis.text.x = element_text(angle = 60, hjust = 1)) +\n",
    "scale_fill_manual(values = c(\"#F0C929\", \"#16697A\", \"616F39\"))"
   ]
  },
  {
   "cell_type": "markdown",
   "id": "9536d9e1",
   "metadata": {
    "papermill": {
     "duration": 0.022075,
     "end_time": "2022-09-01T23:43:37.778026",
     "exception": false,
     "start_time": "2022-09-01T23:43:37.755951",
     "status": "completed"
    },
    "tags": []
   },
   "source": [
    "From the chart above, classic_bike is mostly used by riders, followed by electric_bike and then docked_bike."
   ]
  },
  {
   "cell_type": "markdown",
   "id": "e569a732",
   "metadata": {
    "papermill": {
     "duration": 0.022852,
     "end_time": "2022-09-01T23:43:37.822283",
     "exception": false,
     "start_time": "2022-09-01T23:43:37.799431",
     "status": "completed"
    },
    "tags": []
   },
   "source": [
    "# Share"
   ]
  },
  {
   "cell_type": "markdown",
   "id": "1dccad7f",
   "metadata": {
    "papermill": {
     "duration": 0.021484,
     "end_time": "2022-09-01T23:43:37.864408",
     "exception": false,
     "start_time": "2022-09-01T23:43:37.842924",
     "status": "completed"
    },
    "tags": []
   },
   "source": [
    "We could draw the following conclusions from the analysis:\n",
    "\n",
    "- Casual riders have the longest ride length, which means they ride the most. Casual riders are most active on weekends (i.e. Saturday and Sunday), whereas member riders have the longest rides on Wednesday, which is also evenly distributed across the week, indicating they ride more during the week. In general, we have more member riders than casual riders in our membership.\n",
    "\n",
    "- In comparison of the ride type, riders prefer the classic bike to electric bike and docked bike. Casual riders have the most rides on Saturday, followed by Sunday, whereas member riders have the most rides spread throughout the week, with it peak on Wednesday.\n",
    "\n",
    "- And between July and August, both casual and member riders are seen to be more active.\n",
    "\n",
    "- The average duration of casual riders is more than twice that of member riders."
   ]
  },
  {
   "cell_type": "markdown",
   "id": "977272c7",
   "metadata": {
    "papermill": {
     "duration": 0.021146,
     "end_time": "2022-09-01T23:43:37.906404",
     "exception": false,
     "start_time": "2022-09-01T23:43:37.885258",
     "status": "completed"
    },
    "tags": []
   },
   "source": [
    "# Act\n",
    "\n",
    "- Ads should be created outlining the benefits of using bikes daily especially during the weekdays either to commute to work or just to move around the city - focusing on its benefits in order to lure the casual riders into riding during the week as they are the ones that ride most.\n",
    "\n",
    "- There should also be campaigns to promote going green and reducing pollution. events can be organized in collaboration with companies that promote green economy.\n",
    "\n",
    "- Discount should be given to casual riders who decides to subscribe to the annual membership plan as a way to lure the other casual riders into annual riders."
   ]
  },
  {
   "cell_type": "markdown",
   "id": "0b8f123a",
   "metadata": {
    "papermill": {
     "duration": 0.021175,
     "end_time": "2022-09-01T23:43:37.948172",
     "exception": false,
     "start_time": "2022-09-01T23:43:37.926997",
     "status": "completed"
    },
    "tags": []
   },
   "source": [
    "Finally, I'd like to thank the Google Data Analytics Coursera team for meticulously planning and delivering such an amazing course, as well as for providing me with the opportunity to work on the project. \n",
    "\n",
    "Thank you to the R community for all of the excellent documentation available on various forums, which assisted me in selecting the appropriate tools and functions to aid in the preparation, processing, and analysis phases."
   ]
  }
 ],
 "metadata": {
  "kernelspec": {
   "display_name": "R",
   "language": "R",
   "name": "ir"
  },
  "language_info": {
   "codemirror_mode": "r",
   "file_extension": ".r",
   "mimetype": "text/x-r-source",
   "name": "R",
   "pygments_lexer": "r",
   "version": "4.0.5"
  },
  "papermill": {
   "default_parameters": {},
   "duration": 302.461523,
   "end_time": "2022-09-01T23:43:38.492515",
   "environment_variables": {},
   "exception": null,
   "input_path": "__notebook__.ipynb",
   "output_path": "__notebook__.ipynb",
   "parameters": {},
   "start_time": "2022-09-01T23:38:36.030992",
   "version": "2.3.4"
  }
 },
 "nbformat": 4,
 "nbformat_minor": 5
}
